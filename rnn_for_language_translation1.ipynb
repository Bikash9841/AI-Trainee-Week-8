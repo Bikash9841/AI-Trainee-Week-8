{
  "cells": [
    {
      "cell_type": "markdown",
      "metadata": {},
      "source": [
        "## NO padding , no EOs"
      ]
    },
    {
      "cell_type": "code",
      "execution_count": 1,
      "metadata": {
        "id": "pKvmbPUk6UP-"
      },
      "outputs": [],
      "source": [
        "!pip install -q datasets"
      ]
    },
    {
      "cell_type": "code",
      "execution_count": 2,
      "metadata": {
        "id": "TwFcEEI46I53"
      },
      "outputs": [
        {
          "name": "stderr",
          "output_type": "stream",
          "text": [
            "/home/bikasherl/miniconda3/envs/bajra/lib/python3.12/site-packages/tqdm/auto.py:21: TqdmWarning: IProgress not found. Please update jupyter and ipywidgets. See https://ipywidgets.readthedocs.io/en/stable/user_install.html\n",
            "  from .autonotebook import tqdm as notebook_tqdm\n"
          ]
        }
      ],
      "source": [
        "from transformers import AutoTokenizer\n",
        "import torch.nn as nn\n",
        "from torch.utils.data import DataLoader\n",
        "import torch\n",
        "\n",
        "# #extract pretrained tokenizer from huggingface\n",
        "# tokenizer=AutoTokenizer.from_pretrained('gpt2')\n",
        "# tokenizer\n",
        "\n",
        "device='cuda' if torch.cuda.is_available() else 'cpu'"
      ]
    },
    {
      "cell_type": "markdown",
      "metadata": {
        "id": "nKb1b-FxRakR"
      },
      "source": [
        "## Load the English to Nepali Translation Dataset From Huggingface"
      ]
    },
    {
      "cell_type": "code",
      "execution_count": 3,
      "metadata": {
        "colab": {
          "base_uri": "https://localhost:8080/",
          "height": 242,
          "referenced_widgets": [
            "445f986b312a4a91b39265273a24c6ae",
            "4d64318060c0408684e7e182fec90403",
            "476049c2b3e04f75937177fc1c85f4c4",
            "a0e0875eb7fa482c9fb1908c552f2a00",
            "7bc3a00e9f7b4bb39535cb334b80849e",
            "7ccb423c265c4171a72ff521b26bda4a",
            "11426bd979b2428996b2c30812bf49ec",
            "3ec7bcf7996542ce8068950e3585ebb2",
            "e8b66d0b024d4fa79b665621abe00ee8",
            "fd4e60b6ff1f443db1e2ddb856cd4e10",
            "dae7144a743744a5967554ba8d3f0eff",
            "2258c54eaf514c0fbf0bd7ddf47048d3",
            "f435b1ead1f14e4d9c4bca25734a8a55",
            "eed13e15d2d146e4b9a02cb8f7ddc310",
            "2ecb720e4b4947aa80b68c2a3487f126",
            "e442823e3dd84d69b72b4881ef45923f",
            "b872cafc33004ac8940a3a1d9db2d219",
            "33bd665be768416a9ed4504329a77ee6",
            "b084c9c467e34ae59a64513b8a8339fb",
            "95da74a7f82a4940b89e0d3ac518dffe",
            "a54d3e3b19b143d6a3222271435691c9",
            "3225bb8ffeda40bc95df3f244f73d6ed",
            "6ffe3adb7219461a88d230cdf68d4a99",
            "c8dc388fe354464e8861732743c4428f",
            "98e5763c10ea4c79ab4f49866c066ddd",
            "362859ff1fbf48d383640a1eafc8661e",
            "a40f0b91272545a6a9daaf1fb5db6d6f",
            "c8c5970ebf764a9588f5ec44c3cabc06",
            "1191d0cf08084198a8108a6131fd3b41",
            "b8f0f10629544ad683bab2e2a7083739",
            "1a4067defc714364bfecf97475334314",
            "9ad5601182c343b0af4186facb0d77b2",
            "537c3a638f5f48e8935ae08496125dbe"
          ]
        },
        "id": "RdT2iblx6I56",
        "outputId": "dc570517-d0fe-4844-c651-0890c5684e6b"
      },
      "outputs": [],
      "source": [
        "from datasets import load_dataset\n",
        "\n",
        "ds = load_dataset(\"CohleM/english-to-nepali\")"
      ]
    },
    {
      "cell_type": "code",
      "execution_count": 4,
      "metadata": {
        "colab": {
          "base_uri": "https://localhost:8080/"
        },
        "id": "662R7knd6I56",
        "outputId": "ede8c2b2-a3e3-460e-8a12-f8315f4e9487"
      },
      "outputs": [
        {
          "data": {
            "text/plain": [
              "Dataset({\n",
              "    features: ['en', 'ne'],\n",
              "    num_rows: 177334\n",
              "})"
            ]
          },
          "execution_count": 4,
          "metadata": {},
          "output_type": "execute_result"
        }
      ],
      "source": [
        "ds['train']"
      ]
    },
    {
      "cell_type": "markdown",
      "metadata": {
        "id": "4HiipCx6SRW6"
      },
      "source": [
        "## Make Train Dataloader"
      ]
    },
    {
      "cell_type": "code",
      "execution_count": 5,
      "metadata": {
        "colab": {
          "base_uri": "https://localhost:8080/"
        },
        "id": "z9LgHdHX6I56",
        "outputId": "030cf4ff-ac68-464c-a0fe-63c40a977e51"
      },
      "outputs": [
        {
          "data": {
            "text/plain": [
              "<torch.utils.data.dataloader.DataLoader at 0x70beb4479790>"
            ]
          },
          "execution_count": 5,
          "metadata": {},
          "output_type": "execute_result"
        }
      ],
      "source": [
        "\n",
        "# making train dataloader\n",
        "train_dataloader=DataLoader(ds['train'],batch_size=1,shuffle=False)\n",
        "train_dataloader"
      ]
    },
    {
      "cell_type": "code",
      "execution_count": 6,
      "metadata": {
        "colab": {
          "base_uri": "https://localhost:8080/"
        },
        "id": "rJ4tJ0_s7uCz",
        "outputId": "03eddec9-b628-48ae-eed8-87cc34edd92b"
      },
      "outputs": [
        {
          "name": "stdout",
          "output_type": "stream",
          "text": [
            "{'en': ['Technical committees will be attached to each ministry.'], 'ne': ['प्रत्येक मन्त्रालय अन्तर्गत शिल्प (टेक्निकल) कमिटीहरु गठन गरिनेछन्']}\n"
          ]
        }
      ],
      "source": [
        "# extracting a single batch from the traindataloader\n",
        "for data in train_dataloader:\n",
        "  print(data)\n",
        "  break"
      ]
    },
    {
      "cell_type": "code",
      "execution_count": 7,
      "metadata": {
        "id": "KGyTJHTS6I57"
      },
      "outputs": [],
      "source": [
        "# dictionary for the tokenized data\n",
        "t_dict={'en':[],\n",
        "        'ne':[]\n",
        "        }\n"
      ]
    },
    {
      "cell_type": "code",
      "execution_count": 8,
      "metadata": {
        "id": "51TrkCaH6I57"
      },
      "outputs": [],
      "source": [
        "# making a dictionary of tokens for both english and nepali language\n",
        "\n",
        "# extract every sentence from the dataloader and tokenize it one by one.. not a good method. need to add padding manually by\n",
        "# deriving the maximum length of tokens for each batch and after that add padding to make the same length.\n",
        "# padding is needed beacuse we are making the batch. otherwise it is not needed in RNN.\n",
        "\n",
        "# for data in train_dataloader:\n",
        "\n",
        "#     for sentence in data['en']:\n",
        "#         t_dict['en'].append(tokenizer.encode(sentence))\n",
        "\n",
        "#     for sentence in data['ne']:\n",
        "#         t_dict['ne'].append(tokenizer.encode(sentence))\n",
        "\n",
        "#     break\n"
      ]
    },
    {
      "cell_type": "code",
      "execution_count": 9,
      "metadata": {
        "id": "Frd5QKjo6I57"
      },
      "outputs": [],
      "source": [
        "# gpt2 doesnt have special tokens to adding a padding token and start of sentence token\n",
        "# tokenizer.add_special_tokens({'pad_token':'<pad>'})\n",
        "# tokenizer.add_special_tokens({'bos_token':'<sos>'})"
      ]
    },
    {
      "cell_type": "code",
      "execution_count": 10,
      "metadata": {
        "id": "KvXz3wZL6I57"
      },
      "outputs": [],
      "source": [
        "# for data in train_dataloader:\n",
        "#     t_dict['en']=tokenizer(data['en'],padding=True)['input_ids']\n",
        "#     t_dict['ne']=tokenizer(data['ne'],padding=True)['input_ids']\n",
        "#     print(t_dict['en'])\n",
        "#     break"
      ]
    },
    {
      "cell_type": "markdown",
      "metadata": {
        "id": "HDOZy94ERGeS"
      },
      "source": [
        "## Building Custom Tokenizer"
      ]
    },
    {
      "cell_type": "code",
      "execution_count": 11,
      "metadata": {
        "id": "ey8vGa6oRI9P"
      },
      "outputs": [],
      "source": [
        "class Toke():\n",
        "    def __init__(self,text: str,final_vocab_size: int):\n",
        "        ''' text: (string) a chunk of text to train the tokenizer\n",
        "            final_vocab_size: (int) maximum number of tokens in the vocab\n",
        "        '''\n",
        "        self.final_vocab_size=final_vocab_size\n",
        "        self.tokens = text.encode(\"utf-8\") # raw bytes\n",
        "        self.tokens = list(map(int, self.tokens)) # convert to a list of integers in range 0..255 for convenience\n",
        "        self.ids = list(self.tokens) # copy so we don't destroy the original list\n",
        "        self.merges = {} # (int, int) -> int\n",
        "        self.vocab={idx: bytes([idx]) for idx in range(256)}\n",
        "\n",
        "    def get_stats(self,ids):\n",
        "        self.counts={}\n",
        "        for pair in zip(ids, ids[1:]):\n",
        "            self.counts[pair] = self.counts.get(pair, 0) + 1\n",
        "        return self.counts\n",
        "\n",
        "    def merge(self,ids, pair, idx):\n",
        "        i = 0\n",
        "        self.newids=[]\n",
        "        while i < len(ids):\n",
        "            if i < len(ids) - 1 and ids[i] == pair[0] and ids[i+1] == pair[1]:\n",
        "                self.newids.append(idx)\n",
        "                i += 2\n",
        "            else:\n",
        "                self.newids.append(ids[i])\n",
        "                i += 1\n",
        "        return self.newids\n",
        "\n",
        "    # make the vocab reamining\n",
        "    def create_final_vocab(self):\n",
        "        ''' creates final vocabulary dictionary using BPE '''\n",
        "        # create the merge dictionary using BPE algo\n",
        "        for i in range(self.final_vocab_size-256):\n",
        "            stats = self.get_stats(self.ids)\n",
        "            pair = max(stats, key=stats.get)\n",
        "            idx = 256 + i\n",
        "            print(f\"merging {pair} into a new token {idx}\")\n",
        "            self.ids = self.merge(self.ids, pair, idx)\n",
        "            self.merges[pair] = idx\n",
        "\n",
        "        # create final vocab\n",
        "        for (p0, p1), idx in self.merges.items():\n",
        "            self.vocab[idx] = self.vocab[p0] + self.vocab[p1]\n",
        "\n",
        "\n",
        "    def encode(self,text):\n",
        "        '''given a string, return list of integers (the tokens)'''\n",
        "        tokens = list(text.encode(\"utf-8\"))\n",
        "        while len(tokens) >= 2:\n",
        "            stats = self.get_stats(tokens)\n",
        "            pair = min(stats, key=lambda p: self.merges.get(p, float(\"inf\")))\n",
        "            if pair not in self.merges:\n",
        "                break # nothing else can be merged\n",
        "            idx = self.merges[pair]\n",
        "            tokens = self.merge(tokens, pair, idx)\n",
        "        return tokens\n",
        "\n",
        "    def decode(self,ids):\n",
        "        '''given ids (list of integers), return Python string'''\n",
        "        tokens = b\"\".join(self.vocab[idx] for idx in ids)\n",
        "        text = tokens.decode(\"utf-8\", errors=\"replace\")\n",
        "        return text\n",
        "\n"
      ]
    },
    {
      "cell_type": "markdown",
      "metadata": {},
      "source": [
        "### Use Already Trained Custom Tokenizer\n",
        "  1. Load the save tokenizer from `custom_tokenizer.pt` file"
      ]
    },
    {
      "cell_type": "code",
      "execution_count": 12,
      "metadata": {},
      "outputs": [],
      "source": [
        "#Load the saved tokenizer\n",
        "otoke=torch.load('custom_tokenizer.pt')\n",
        "\n",
        "\n",
        "# to train the tokenizer\n",
        "# otoke=Toke(text=\"<your text here> \",final_vocab_size=1000)\n",
        "# otoke.create_final_vocab()\n",
        "\n",
        "# adding start of sentence token in vocab\n",
        "otoke.vocab[1000]=b'<sos>'\n",
        "otoke.vocab[1001]=b'<pad>'\n",
        "otoke.vocab[1002]=b'<eos>'"
      ]
    },
    {
      "cell_type": "markdown",
      "metadata": {
        "id": "VZsFmVRWKdH3"
      },
      "source": [
        "## Build Encoder for Langugage Translation Task"
      ]
    },
    {
      "cell_type": "code",
      "execution_count": 13,
      "metadata": {
        "id": "lpHnCMR56I59"
      },
      "outputs": [],
      "source": [
        "class Encoder(nn.Module):\n",
        "    def __init__(self):\n",
        "        super().__init__()\n",
        "        self.embedding=nn.Embedding(1001,128)\n",
        "        self.rnn=nn.RNN(128,hidden_size=32,batch_first=True)\n",
        "\n",
        "\n",
        "    def forward(self,x,hidden=None):\n",
        "        x=self.embedding(x)\n",
        "        x,hidden=self.rnn(x,hidden)\n",
        "        return x,hidden\n"
      ]
    },
    {
      "cell_type": "code",
      "execution_count": 14,
      "metadata": {
        "colab": {
          "base_uri": "https://localhost:8080/"
        },
        "id": "g8uWjQBz6I59",
        "outputId": "e21cbdaa-4d57-49a2-8f50-ef0df4f32512"
      },
      "outputs": [
        {
          "data": {
            "text/plain": [
              "Encoder(\n",
              "  (embedding): Embedding(1001, 128)\n",
              "  (rnn): RNN(128, 32, batch_first=True)\n",
              ")"
            ]
          },
          "execution_count": 14,
          "metadata": {},
          "output_type": "execute_result"
        }
      ],
      "source": [
        "model_rnn=Encoder()\n",
        "model_rnn.to(device)"
      ]
    },
    {
      "cell_type": "code",
      "execution_count": 15,
      "metadata": {
        "id": "lzCQs-4w6I59"
      },
      "outputs": [],
      "source": [
        "# enc_out,enc_hid=model_rnn(torch.tensor(otoke.encode(data['en'][0])).unsqueeze(0))"
      ]
    },
    {
      "cell_type": "code",
      "execution_count": 16,
      "metadata": {
        "id": "W5O1sDIt6I59"
      },
      "outputs": [],
      "source": [
        "# enc_out.shape,enc_hid.shape"
      ]
    },
    {
      "cell_type": "code",
      "execution_count": 17,
      "metadata": {
        "id": "pznL-EHI6I59"
      },
      "outputs": [],
      "source": [
        "# torch.tensor(t_dict['en']).shape"
      ]
    },
    {
      "cell_type": "markdown",
      "metadata": {
        "id": "BtzQqDv2Kmk0"
      },
      "source": [
        "## Build Decoder for Language Translation Task"
      ]
    },
    {
      "cell_type": "code",
      "execution_count": 18,
      "metadata": {
        "id": "KP3_Z3PG6I59"
      },
      "outputs": [],
      "source": [
        "class Decoder(nn.Module):\n",
        "    def __init__(self):\n",
        "        super().__init__()\n",
        "\n",
        "        self.embedding=nn.Embedding(1001,128)\n",
        "        self.rnn=nn.RNN(128,hidden_size=32,batch_first=True)\n",
        "        self.linear=nn.Linear(32,1001)\n",
        "\n",
        "\n",
        "    def forward(self,encoder_outputs,encoder_hidden,target_tensor=None):\n",
        "\n",
        "        batch_size=encoder_outputs.shape[0]\n",
        "        decoder_input=torch.empty(batch_size,1,dtype=torch.long,device='cuda').fill_(torch.tensor(1000))#(torch.tensor(tokenizer.encode(tokenizer.bos_token)[0]))\n",
        "        decoder_hidden=encoder_hidden\n",
        "        decoder_outputs=[]\n",
        "\n",
        "        for i in range(target_tensor.shape[1]):\n",
        "        # for i in range(5):\n",
        "            decoder_out,decoder_hidden=self.forward_step(decoder_input,decoder_hidden)\n",
        "            decoder_outputs.append(decoder_out)\n",
        "\n",
        "            if target_tensor is not None:\n",
        "                decoder_input=target_tensor[:,i].unsqueeze(1)\n",
        "            else:\n",
        "                _, topi = decoder_out.topk(1)\n",
        "                decoder_input = topi.squeeze(-1).detach()\n",
        "\n",
        "\n",
        "        decoder_outputs = torch.cat(decoder_outputs, dim=1)\n",
        "        decoder_outputs = nn.functional.log_softmax(decoder_outputs, dim=-1)\n",
        "        return decoder_outputs, decoder_hidden\n",
        "\n",
        "    def forward_step(self,input,hidden):\n",
        "        out=self.embedding(input)\n",
        "        out,hidden=self.rnn(out,hidden)\n",
        "        out=self.linear(out)\n",
        "        return out,hidden\n",
        "\n"
      ]
    },
    {
      "cell_type": "code",
      "execution_count": 19,
      "metadata": {
        "colab": {
          "base_uri": "https://localhost:8080/"
        },
        "id": "9aJTz6Rg6I59",
        "outputId": "5856f7fd-cfcd-4ac3-8119-7b16086d2d18"
      },
      "outputs": [
        {
          "data": {
            "text/plain": [
              "Decoder(\n",
              "  (embedding): Embedding(1001, 128)\n",
              "  (rnn): RNN(128, 32, batch_first=True)\n",
              "  (linear): Linear(in_features=32, out_features=1001, bias=True)\n",
              ")"
            ]
          },
          "execution_count": 19,
          "metadata": {},
          "output_type": "execute_result"
        }
      ],
      "source": [
        "dec_rnn=Decoder()\n",
        "dec_rnn.to(device)"
      ]
    },
    {
      "cell_type": "code",
      "execution_count": 20,
      "metadata": {
        "id": "KIJ-_Oaa6I5-"
      },
      "outputs": [],
      "source": [
        "# dec_out,dec_hidden=dec_rnn(encoder_outputs=enc_out.to(device),encoder_hidden=enc_hid.to(device),target_tensor=torch.tensor(t_dict['ne']).to(device))\n",
        "# dec_out.shape,dec_hidden.shape\n"
      ]
    },
    {
      "cell_type": "code",
      "execution_count": 21,
      "metadata": {
        "id": "fB2tDn256I5-"
      },
      "outputs": [],
      "source": [
        "# outty=dec_out.argmax(dim=-1)\n",
        "# outty.shape"
      ]
    },
    {
      "cell_type": "code",
      "execution_count": 22,
      "metadata": {
        "id": "TMxIPFaQ6I5-"
      },
      "outputs": [],
      "source": [
        "# tokenizer.decode(outty[3])"
      ]
    },
    {
      "cell_type": "code",
      "execution_count": 23,
      "metadata": {
        "id": "X6CoUpkq9H6F"
      },
      "outputs": [],
      "source": [
        "# len(train_dataloader)"
      ]
    },
    {
      "cell_type": "markdown",
      "metadata": {
        "id": "_vLrsUsr6718"
      },
      "source": [
        "## Train the Language Translation Model"
      ]
    },
    {
      "cell_type": "code",
      "execution_count": 24,
      "metadata": {
        "id": "9x_hIHyC8seQ"
      },
      "outputs": [],
      "source": [
        "# model_rnn=torch.load('/content/Lencoder.pt',map_location=torch.device(device))\n",
        "# dec_rnn=torch.load('/content/Ldecoder.pt',map_location=torch.device(device))\n",
        "\n",
        "# optimizers for encoder and decoder\n",
        "encoder_optimizer=torch.optim.Adam(model_rnn.parameters(),lr=0.01)\n",
        "decoder_optimizer=torch.optim.Adam(dec_rnn.parameters(),lr=0.01)\n",
        "\n",
        "# loss function\n",
        "criterion=nn.NLLLoss()"
      ]
    },
    {
      "cell_type": "code",
      "execution_count": 25,
      "metadata": {
        "id": "BNG-xuDhCMbV"
      },
      "outputs": [],
      "source": [
        "train_loss=[]"
      ]
    },
    {
      "cell_type": "code",
      "execution_count": 26,
      "metadata": {},
      "outputs": [],
      "source": [
        "t_dict={'en':[],\n",
        "    'ne':[]\n",
        "    }"
      ]
    },
    {
      "cell_type": "code",
      "execution_count": 43,
      "metadata": {
        "colab": {
          "base_uri": "https://localhost:8080/"
        },
        "collapsed": true,
        "id": "VqQUf10k64nG",
        "outputId": "ea74cae3-decb-41c2-f96c-9fb30d491639"
      },
      "outputs": [
        {
          "name": "stdout",
          "output_type": "stream",
          "text": [
            "Epoch: 1  Loss: 1.65978907253228\n",
            "Epoch: 2  Loss: 1.630314571015975\n",
            "Epoch: 3  Loss: 1.6267585567399567\n",
            "\n",
            "English: B. Wireless Communications.\n",
            "True: (ख) आकाशवाणी\n",
            "Predicted: यख) आकाश कार्याणी\n",
            "Epoch: 4  Loss: 1.632740908978032\n",
            "Epoch: 5  Loss: 1.6756275144277835\n",
            "\n",
            "English: B. Wireless Communications.\n",
            "True: (ख) आकाशवाणी\n",
            "Predicted: यख) आकाश कार्याणी\n",
            "Epoch: 6  Loss: 1.649211400864171\n",
            "\n",
            "English: B. Wireless Communications.\n",
            "True: (ख) आकाशवाणी\n",
            "Predicted: यख) आकाशवाणी\n",
            "Epoch: 7  Loss: 1.6074732302450667\n",
            "\n",
            "English: B. Wireless Communications.\n",
            "True: (ख) आकाशवाणी\n",
            "Predicted: यख) आकाशवाणी\n",
            "Epoch: 8  Loss: 1.574351213726343\n",
            "\n",
            "English: B. Wireless Communications.\n",
            "True: (ख) आकाशवाणी\n",
            "Predicted: यख) आकाशवाणी\n",
            "Epoch: 9  Loss: 1.553645149749868\n",
            "\n",
            "English: B. Wireless Communications.\n",
            "True: (ख) आकाशवाणी\n",
            "Predicted: यख) आकाशवाणी\n",
            "Epoch: 10  Loss: 1.5375988810670143\n"
          ]
        }
      ],
      "source": [
        "for epoch in range(10):\n",
        "  total_loss = 0\n",
        "  num_example=0\n",
        "  for data in train_dataloader:\n",
        "\n",
        "    num_example+=1\n",
        "\n",
        "    '''\n",
        "    # encoding every sentence in a batch individually\n",
        "    for lang in ['en','ne']:\n",
        "        for sentence in data[lang]:\n",
        "            t_dict[lang].append(otoke.encode(sentence))\n",
        "            t_dict[lang][-1].append(1002) #eos token is 1002\n",
        "\n",
        "    # padding the whole batch according to maximum length\n",
        "    \n",
        "    # finding maximum sentence length for each batch\n",
        "    for lang in ['en','ne']:\n",
        "        sen_length=[]\n",
        "        for sen in t_dict[lang]:\n",
        "            sen_length.append(len(sen))\n",
        "\n",
        "        # add zero padding to all token if not of same length(max length)\n",
        "        for sen in t_dict[lang]:\n",
        "            for i in range(len(sen),max(sen_length)):\n",
        "                sen.append(1001) #pad token is 1001\n",
        "    \n",
        "    '''\n",
        "    t_dict['en']=torch.tensor(otoke.encode(data['en'][0])).unsqueeze(0)\n",
        "    t_dict['ne']=torch.tensor(otoke.encode(data['ne'][0])).unsqueeze(0)\n",
        "\n",
        "    encoder_optimizer.zero_grad()\n",
        "    decoder_optimizer.zero_grad()\n",
        "\n",
        "    enc_out,enc_hid=model_rnn(t_dict['en'].to(device))\n",
        "    dec_out,dec_hidden=dec_rnn(encoder_outputs=enc_out,encoder_hidden=enc_hid,target_tensor=t_dict['ne'].to(device))\n",
        "\n",
        "    loss = criterion(\n",
        "        dec_out.view(-1, dec_out.size(-1)),\n",
        "        t_dict['ne'].to(device).view(-1)\n",
        "    )\n",
        "    loss.backward()\n",
        "\n",
        "    encoder_optimizer.step()\n",
        "    decoder_optimizer.step()\n",
        "\n",
        "    total_loss += loss.item()\n",
        "    # print the output if\n",
        "    if(loss.item()<0.5):\n",
        "      print(f\"\\nEnglish: {otoke.decode((t_dict['en']).squeeze(0).tolist())}\")\n",
        "      print(f\"True: {otoke.decode((t_dict['ne']).squeeze(0).tolist())}\")\n",
        "      print(f\"Predicted: {otoke.decode(dec_out.argmax(dim=-1).squeeze(0).tolist())}\")\n",
        "\n",
        "    if num_example>50:\n",
        "      break\n",
        "  train_loss.append(total_loss/num_example)\n",
        "  print(f\"Epoch: {epoch+1}  Loss: {total_loss/num_example}\")\n"
      ]
    },
    {
      "cell_type": "code",
      "execution_count": 44,
      "metadata": {
        "colab": {
          "base_uri": "https://localhost:8080/"
        },
        "id": "sJ5oyY5YBU95",
        "outputId": "9ce7e798-0bce-49b4-ad91-f02c40853064"
      },
      "outputs": [
        {
          "data": {
            "text/plain": [
              "torch.Size([1, 108, 1001])"
            ]
          },
          "execution_count": 44,
          "metadata": {},
          "output_type": "execute_result"
        }
      ],
      "source": [
        "dec_out.shape"
      ]
    },
    {
      "cell_type": "markdown",
      "metadata": {},
      "source": [
        "## Loss Curves"
      ]
    },
    {
      "cell_type": "code",
      "execution_count": 45,
      "metadata": {
        "colab": {
          "base_uri": "https://localhost:8080/",
          "height": 448
        },
        "id": "oGumB8Gd5EM1",
        "outputId": "cf3f76fc-1247-4351-b278-50e661af0f75"
      },
      "outputs": [
        {
          "data": {
            "text/plain": [
              "[<matplotlib.lines.Line2D at 0x70be79a55100>]"
            ]
          },
          "execution_count": 45,
          "metadata": {},
          "output_type": "execute_result"
        },
        {
          "data": {
            "image/png": "[encoded data removed]",
            "text/plain": [
              "<Figure size 640x480 with 1 Axes>"
            ]
          },
          "metadata": {},
          "output_type": "display_data"
        }
      ],
      "source": [
        "import matplotlib.pyplot as plt\n",
        "\n",
        "plt.plot(train_loss)"
      ]
    },
    {
      "cell_type": "code",
      "execution_count": 46,
      "metadata": {
        "colab": {
          "base_uri": "https://localhost:8080/",
          "height": 55
        },
        "id": "uTqSh0iyBkSz",
        "outputId": "6d115c8e-f69c-46f6-e543-428a91fbad3e"
      },
      "outputs": [
        {
          "name": "stdout",
          "output_type": "stream",
          "text": [
            "True: But the most urgently needed negotiations is for a revision of our present treaty with India which affects both the bulk of our foreign trade, which is with India, and potentially significant overseas trade which must pass through India.\n",
            "\n",
            "\n",
            "True: नेपाल भारत भैत्री र वाणिज्य सन्धि विषय छलफल गरी उपयुक्त बनाउनु हालको निमित्त अत्यन्त आवश्य कुरो छ किनकि नेपालको व्यापार भारतसंग धेरै मात्रामा हुन्छ र समुद्रपारका देशहरुमा हुने हाम्रो व्यापार पनि भारत कै बाटो गरी चल्दछ।\n",
            "\n",
            "\n",
            "Predicted: येपालमा �ारत रारय्री र खाणिज्यको वम्बन्धिको भयका �ाड कलाव कतुक्तिा� रनु आवश्यकबाटिमित्त चड राद आवशकादुराहरु� रुरैि प्रको व्यापारको स�तलंग नेपालेरै बढामा गुन्छन् यसुद्रपारका देशहरुमा खेनामा,�्यापार न वारत रेही बढर्षो गरी देशाहाव�छ।\n"
          ]
        }
      ],
      "source": [
        "print(f\"True: {otoke.decode(t_dict['en'].squeeze(0).tolist())}\")\n",
        "print(\"\\n\")\n",
        "print(f\"True: {otoke.decode(t_dict['ne'].squeeze(0).tolist())}\")\n",
        "print(\"\\n\")\n",
        "print(f\"Predicted: {otoke.decode(dec_out.argmax(dim=-1).squeeze(0).tolist())}\")"
      ]
    },
    {
      "cell_type": "code",
      "execution_count": 31,
      "metadata": {
        "id": "zU6iPiW5vKFj"
      },
      "outputs": [],
      "source": [
        "# torch.save(model_rnn.state_dict(),'Ld_encoder.pt')\n",
        "# torch.save(dec_rnn.state_dict(),'Ld_decoder.pt')"
      ]
    },
    {
      "cell_type": "code",
      "execution_count": 32,
      "metadata": {
        "id": "VQOPXpuy56_G"
      },
      "outputs": [],
      "source": [
        "torch.save(model_rnn,'Lencoder.pt')\n",
        "torch.save(dec_rnn,'Ldecoder.pt')"
      ]
    },
    {
      "cell_type": "code",
      "execution_count": 33,
      "metadata": {
        "id": "HHx4-oJQmOn2"
      },
      "outputs": [],
      "source": [
        "\n",
        "t_dict['en']=torch.tensor(otoke.encode('The country should look over its citizens')).unsqueeze(0)\n",
        "t_dict['ne']=torch.tensor(otoke.encode('देशले आफ्ना नागरिकलाई हेर्नुपर्छ')).unsqueeze(0)\n",
        "\n",
        "enc_out,enc_hid=model_rnn((t_dict['en']).to(device))\n",
        "dec_out,dec_hidden=dec_rnn(encoder_outputs=enc_out,encoder_hidden=enc_hid,target_tensor=(t_dict['ne']).to(device))\n"
      ]
    },
    {
      "cell_type": "code",
      "execution_count": 34,
      "metadata": {
        "colab": {
          "base_uri": "https://localhost:8080/",
          "height": 36
        },
        "id": "j5o4NWcEw0No",
        "outputId": "0c9e8bb6-813b-46ef-e7e0-d65ed3dc8082"
      },
      "outputs": [
        {
          "data": {
            "text/plain": [
              "'ा रूिक यसर्थिकिसिया र शिक्षाद स योको स �पर्ने�'"
            ]
          },
          "execution_count": 34,
          "metadata": {},
          "output_type": "execute_result"
        }
      ],
      "source": [
        "otoke.decode(dec_out.argmax(dim=-1).squeeze(0).tolist())"
      ]
    }
  ],
  "metadata": {
    "colab": {
      "provenance": []
    },
    "kernelspec": {
      "display_name": "Python 3",
      "name": "python3"
    },
    "language_info": {
      "codemirror_mode": {
        "name": "ipython",
        "version": 3
      },
      "file_extension": ".py",
      "mimetype": "text/x-python",
      "name": "python",
      "nbconvert_exporter": "python",
      "pygments_lexer": "ipython3",
      "version": "3.12.3"
    },
    "widgets": {
      "application/vnd.jupyter.widget-state+json": {
        "11426bd979b2428996b2c30812bf49ec": {
          "model_module": "@jupyter-widgets/controls",
          "model_module_version": "1.5.0",
          "model_name": "DescriptionStyleModel",
          "state": {
            "_model_module": "@jupyter-widgets/controls",
            "_model_module_version": "1.5.0",
            "_model_name": "DescriptionStyleModel",
            "_view_count": null,
            "_view_module": "@jupyter-widgets/base",
            "_view_module_version": "1.2.0",
            "_view_name": "StyleView",
            "description_width": ""
          }
        },
        "1191d0cf08084198a8108a6131fd3b41": {
          "model_module": "@jupyter-widgets/controls",
          "model_module_version": "1.5.0",
          "model_name": "DescriptionStyleModel",
          "state": {
            "_model_module": "@jupyter-widgets/controls",
            "_model_module_version": "1.5.0",
            "_model_name": "DescriptionStyleModel",
            "_view_count": null,
            "_view_module": "@jupyter-widgets/base",
            "_view_module_version": "1.2.0",
            "_view_name": "StyleView",
            "description_width": ""
          }
        },
        "1a4067defc714364bfecf97475334314": {
          "model_module": "@jupyter-widgets/controls",
          "model_module_version": "1.5.0",
          "model_name": "ProgressStyleModel",
          "state": {
            "_model_module": "@jupyter-widgets/controls",
            "_model_module_version": "1.5.0",
            "_model_name": "ProgressStyleModel",
            "_view_count": null,
            "_view_module": "@jupyter-widgets/base",
            "_view_module_version": "1.2.0",
            "_view_name": "StyleView",
            "bar_color": null,
            "description_width": ""
          }
        },
        "2258c54eaf514c0fbf0bd7ddf47048d3": {
          "model_module": "@jupyter-widgets/controls",
          "model_module_version": "1.5.0",
          "model_name": "HBoxModel",
          "state": {
            "_dom_classes": [],
            "_model_module": "@jupyter-widgets/controls",
            "_model_module_version": "1.5.0",
            "_model_name": "HBoxModel",
            "_view_count": null,
            "_view_module": "@jupyter-widgets/controls",
            "_view_module_version": "1.5.0",
            "_view_name": "HBoxView",
            "box_style": "",
            "children": [
              "IPY_MODEL_f435b1ead1f14e4d9c4bca25734a8a55",
              "IPY_MODEL_eed13e15d2d146e4b9a02cb8f7ddc310",
              "IPY_MODEL_2ecb720e4b4947aa80b68c2a3487f126"
            ],
            "layout": "IPY_MODEL_e442823e3dd84d69b72b4881ef45923f"
          }
        },
        "2ecb720e4b4947aa80b68c2a3487f126": {
          "model_module": "@jupyter-widgets/controls",
          "model_module_version": "1.5.0",
          "model_name": "HTMLModel",
          "state": {
            "_dom_classes": [],
            "_model_module": "@jupyter-widgets/controls",
            "_model_module_version": "1.5.0",
            "_model_name": "HTMLModel",
            "_view_count": null,
            "_view_module": "@jupyter-widgets/controls",
            "_view_module_version": "1.5.0",
            "_view_name": "HTMLView",
            "description": "",
            "description_tooltip": null,
            "layout": "IPY_MODEL_a54d3e3b19b143d6a3222271435691c9",
            "placeholder": "​",
            "style": "IPY_MODEL_3225bb8ffeda40bc95df3f244f73d6ed",
            "value": " 28.9M/28.9M [00:00&lt;00:00, 49.3MB/s]"
          }
        },
        "3225bb8ffeda40bc95df3f244f73d6ed": {
          "model_module": "@jupyter-widgets/controls",
          "model_module_version": "1.5.0",
          "model_name": "DescriptionStyleModel",
          "state": {
            "_model_module": "@jupyter-widgets/controls",
            "_model_module_version": "1.5.0",
            "_model_name": "DescriptionStyleModel",
            "_view_count": null,
            "_view_module": "@jupyter-widgets/base",
            "_view_module_version": "1.2.0",
            "_view_name": "StyleView",
            "description_width": ""
          }
        },
        "33bd665be768416a9ed4504329a77ee6": {
          "model_module": "@jupyter-widgets/controls",
          "model_module_version": "1.5.0",
          "model_name": "DescriptionStyleModel",
          "state": {
            "_model_module": "@jupyter-widgets/controls",
            "_model_module_version": "1.5.0",
            "_model_name": "DescriptionStyleModel",
            "_view_count": null,
            "_view_module": "@jupyter-widgets/base",
            "_view_module_version": "1.2.0",
            "_view_name": "StyleView",
            "description_width": ""
          }
        },
        "362859ff1fbf48d383640a1eafc8661e": {
          "model_module": "@jupyter-widgets/controls",
          "model_module_version": "1.5.0",
          "model_name": "HTMLModel",
          "state": {
            "_dom_classes": [],
            "_model_module": "@jupyter-widgets/controls",
            "_model_module_version": "1.5.0",
            "_model_name": "HTMLModel",
            "_view_count": null,
            "_view_module": "@jupyter-widgets/controls",
            "_view_module_version": "1.5.0",
            "_view_name": "HTMLView",
            "description": "",
            "description_tooltip": null,
            "layout": "IPY_MODEL_9ad5601182c343b0af4186facb0d77b2",
            "placeholder": "​",
            "style": "IPY_MODEL_537c3a638f5f48e8935ae08496125dbe",
            "value": " 177334/177334 [00:01&lt;00:00, 177657.46 examples/s]"
          }
        },
        "3ec7bcf7996542ce8068950e3585ebb2": {
          "model_module": "@jupyter-widgets/base",
          "model_module_version": "1.2.0",
          "model_name": "LayoutModel",
          "state": {
            "_model_module": "@jupyter-widgets/base",
            "_model_module_version": "1.2.0",
            "_model_name": "LayoutModel",
            "_view_count": null,
            "_view_module": "@jupyter-widgets/base",
            "_view_module_version": "1.2.0",
            "_view_name": "LayoutView",
            "align_content": null,
            "align_items": null,
            "align_self": null,
            "border": null,
            "bottom": null,
            "display": null,
            "flex": null,
            "flex_flow": null,
            "grid_area": null,
            "grid_auto_columns": null,
            "grid_auto_flow": null,
            "grid_auto_rows": null,
            "grid_column": null,
            "grid_gap": null,
            "grid_row": null,
            "grid_template_areas": null,
            "grid_template_columns": null,
            "grid_template_rows": null,
            "height": null,
            "justify_content": null,
            "justify_items": null,
            "left": null,
            "margin": null,
            "max_height": null,
            "max_width": null,
            "min_height": null,
            "min_width": null,
            "object_fit": null,
            "object_position": null,
            "order": null,
            "overflow": null,
            "overflow_x": null,
            "overflow_y": null,
            "padding": null,
            "right": null,
            "top": null,
            "visibility": null,
            "width": null
          }
        },
        "445f986b312a4a91b39265273a24c6ae": {
          "model_module": "@jupyter-widgets/controls",
          "model_module_version": "1.5.0",
          "model_name": "HBoxModel",
          "state": {
            "_dom_classes": [],
            "_model_module": "@jupyter-widgets/controls",
            "_model_module_version": "1.5.0",
            "_model_name": "HBoxModel",
            "_view_count": null,
            "_view_module": "@jupyter-widgets/controls",
            "_view_module_version": "1.5.0",
            "_view_name": "HBoxView",
            "box_style": "",
            "children": [
              "IPY_MODEL_4d64318060c0408684e7e182fec90403",
              "IPY_MODEL_476049c2b3e04f75937177fc1c85f4c4",
              "IPY_MODEL_a0e0875eb7fa482c9fb1908c552f2a00"
            ],
            "layout": "IPY_MODEL_7bc3a00e9f7b4bb39535cb334b80849e"
          }
        },
        "476049c2b3e04f75937177fc1c85f4c4": {
          "model_module": "@jupyter-widgets/controls",
          "model_module_version": "1.5.0",
          "model_name": "FloatProgressModel",
          "state": {
            "_dom_classes": [],
            "_model_module": "@jupyter-widgets/controls",
            "_model_module_version": "1.5.0",
            "_model_name": "FloatProgressModel",
            "_view_count": null,
            "_view_module": "@jupyter-widgets/controls",
            "_view_module_version": "1.5.0",
            "_view_name": "ProgressView",
            "bar_style": "success",
            "description": "",
            "description_tooltip": null,
            "layout": "IPY_MODEL_3ec7bcf7996542ce8068950e3585ebb2",
            "max": 328,
            "min": 0,
            "orientation": "horizontal",
            "style": "IPY_MODEL_e8b66d0b024d4fa79b665621abe00ee8",
            "value": 328
          }
        },
        "4d64318060c0408684e7e182fec90403": {
          "model_module": "@jupyter-widgets/controls",
          "model_module_version": "1.5.0",
          "model_name": "HTMLModel",
          "state": {
            "_dom_classes": [],
            "_model_module": "@jupyter-widgets/controls",
            "_model_module_version": "1.5.0",
            "_model_name": "HTMLModel",
            "_view_count": null,
            "_view_module": "@jupyter-widgets/controls",
            "_view_module_version": "1.5.0",
            "_view_name": "HTMLView",
            "description": "",
            "description_tooltip": null,
            "layout": "IPY_MODEL_7ccb423c265c4171a72ff521b26bda4a",
            "placeholder": "​",
            "style": "IPY_MODEL_11426bd979b2428996b2c30812bf49ec",
            "value": "Downloading readme: 100%"
          }
        },
        "537c3a638f5f48e8935ae08496125dbe": {
          "model_module": "@jupyter-widgets/controls",
          "model_module_version": "1.5.0",
          "model_name": "DescriptionStyleModel",
          "state": {
            "_model_module": "@jupyter-widgets/controls",
            "_model_module_version": "1.5.0",
            "_model_name": "DescriptionStyleModel",
            "_view_count": null,
            "_view_module": "@jupyter-widgets/base",
            "_view_module_version": "1.2.0",
            "_view_name": "StyleView",
            "description_width": ""
          }
        },
        "6ffe3adb7219461a88d230cdf68d4a99": {
          "model_module": "@jupyter-widgets/controls",
          "model_module_version": "1.5.0",
          "model_name": "HBoxModel",
          "state": {
            "_dom_classes": [],
            "_model_module": "@jupyter-widgets/controls",
            "_model_module_version": "1.5.0",
            "_model_name": "HBoxModel",
            "_view_count": null,
            "_view_module": "@jupyter-widgets/controls",
            "_view_module_version": "1.5.0",
            "_view_name": "HBoxView",
            "box_style": "",
            "children": [
              "IPY_MODEL_c8dc388fe354464e8861732743c4428f",
              "IPY_MODEL_98e5763c10ea4c79ab4f49866c066ddd",
              "IPY_MODEL_362859ff1fbf48d383640a1eafc8661e"
            ],
            "layout": "IPY_MODEL_a40f0b91272545a6a9daaf1fb5db6d6f"
          }
        },
        "7bc3a00e9f7b4bb39535cb334b80849e": {
          "model_module": "@jupyter-widgets/base",
          "model_module_version": "1.2.0",
          "model_name": "LayoutModel",
          "state": {
            "_model_module": "@jupyter-widgets/base",
            "_model_module_version": "1.2.0",
            "_model_name": "LayoutModel",
            "_view_count": null,
            "_view_module": "@jupyter-widgets/base",
            "_view_module_version": "1.2.0",
            "_view_name": "LayoutView",
            "align_content": null,
            "align_items": null,
            "align_self": null,
            "border": null,
            "bottom": null,
            "display": null,
            "flex": null,
            "flex_flow": null,
            "grid_area": null,
            "grid_auto_columns": null,
            "grid_auto_flow": null,
            "grid_auto_rows": null,
            "grid_column": null,
            "grid_gap": null,
            "grid_row": null,
            "grid_template_areas": null,
            "grid_template_columns": null,
            "grid_template_rows": null,
            "height": null,
            "justify_content": null,
            "justify_items": null,
            "left": null,
            "margin": null,
            "max_height": null,
            "max_width": null,
            "min_height": null,
            "min_width": null,
            "object_fit": null,
            "object_position": null,
            "order": null,
            "overflow": null,
            "overflow_x": null,
            "overflow_y": null,
            "padding": null,
            "right": null,
            "top": null,
            "visibility": null,
            "width": null
          }
        },
        "7ccb423c265c4171a72ff521b26bda4a": {
          "model_module": "@jupyter-widgets/base",
          "model_module_version": "1.2.0",
          "model_name": "LayoutModel",
          "state": {
            "_model_module": "@jupyter-widgets/base",
            "_model_module_version": "1.2.0",
            "_model_name": "LayoutModel",
            "_view_count": null,
            "_view_module": "@jupyter-widgets/base",
            "_view_module_version": "1.2.0",
            "_view_name": "LayoutView",
            "align_content": null,
            "align_items": null,
            "align_self": null,
            "border": null,
            "bottom": null,
            "display": null,
            "flex": null,
            "flex_flow": null,
            "grid_area": null,
            "grid_auto_columns": null,
            "grid_auto_flow": null,
            "grid_auto_rows": null,
            "grid_column": null,
            "grid_gap": null,
            "grid_row": null,
            "grid_template_areas": null,
            "grid_template_columns": null,
            "grid_template_rows": null,
            "height": null,
            "justify_content": null,
            "justify_items": null,
            "left": null,
            "margin": null,
            "max_height": null,
            "max_width": null,
            "min_height": null,
            "min_width": null,
            "object_fit": null,
            "object_position": null,
            "order": null,
            "overflow": null,
            "overflow_x": null,
            "overflow_y": null,
            "padding": null,
            "right": null,
            "top": null,
            "visibility": null,
            "width": null
          }
        },
        "95da74a7f82a4940b89e0d3ac518dffe": {
          "model_module": "@jupyter-widgets/controls",
          "model_module_version": "1.5.0",
          "model_name": "ProgressStyleModel",
          "state": {
            "_model_module": "@jupyter-widgets/controls",
            "_model_module_version": "1.5.0",
            "_model_name": "ProgressStyleModel",
            "_view_count": null,
            "_view_module": "@jupyter-widgets/base",
            "_view_module_version": "1.2.0",
            "_view_name": "StyleView",
            "bar_color": null,
            "description_width": ""
          }
        },
        "98e5763c10ea4c79ab4f49866c066ddd": {
          "model_module": "@jupyter-widgets/controls",
          "model_module_version": "1.5.0",
          "model_name": "FloatProgressModel",
          "state": {
            "_dom_classes": [],
            "_model_module": "@jupyter-widgets/controls",
            "_model_module_version": "1.5.0",
            "_model_name": "FloatProgressModel",
            "_view_count": null,
            "_view_module": "@jupyter-widgets/controls",
            "_view_module_version": "1.5.0",
            "_view_name": "ProgressView",
            "bar_style": "success",
            "description": "",
            "description_tooltip": null,
            "layout": "IPY_MODEL_b8f0f10629544ad683bab2e2a7083739",
            "max": 177334,
            "min": 0,
            "orientation": "horizontal",
            "style": "IPY_MODEL_1a4067defc714364bfecf97475334314",
            "value": 177334
          }
        },
        "9ad5601182c343b0af4186facb0d77b2": {
          "model_module": "@jupyter-widgets/base",
          "model_module_version": "1.2.0",
          "model_name": "LayoutModel",
          "state": {
            "_model_module": "@jupyter-widgets/base",
            "_model_module_version": "1.2.0",
            "_model_name": "LayoutModel",
            "_view_count": null,
            "_view_module": "@jupyter-widgets/base",
            "_view_module_version": "1.2.0",
            "_view_name": "LayoutView",
            "align_content": null,
            "align_items": null,
            "align_self": null,
            "border": null,
            "bottom": null,
            "display": null,
            "flex": null,
            "flex_flow": null,
            "grid_area": null,
            "grid_auto_columns": null,
            "grid_auto_flow": null,
            "grid_auto_rows": null,
            "grid_column": null,
            "grid_gap": null,
            "grid_row": null,
            "grid_template_areas": null,
            "grid_template_columns": null,
            "grid_template_rows": null,
            "height": null,
            "justify_content": null,
            "justify_items": null,
            "left": null,
            "margin": null,
            "max_height": null,
            "max_width": null,
            "min_height": null,
            "min_width": null,
            "object_fit": null,
            "object_position": null,
            "order": null,
            "overflow": null,
            "overflow_x": null,
            "overflow_y": null,
            "padding": null,
            "right": null,
            "top": null,
            "visibility": null,
            "width": null
          }
        },
        "a0e0875eb7fa482c9fb1908c552f2a00": {
          "model_module": "@jupyter-widgets/controls",
          "model_module_version": "1.5.0",
          "model_name": "HTMLModel",
          "state": {
            "_dom_classes": [],
            "_model_module": "@jupyter-widgets/controls",
            "_model_module_version": "1.5.0",
            "_model_name": "HTMLModel",
            "_view_count": null,
            "_view_module": "@jupyter-widgets/controls",
            "_view_module_version": "1.5.0",
            "_view_name": "HTMLView",
            "description": "",
            "description_tooltip": null,
            "layout": "IPY_MODEL_fd4e60b6ff1f443db1e2ddb856cd4e10",
            "placeholder": "​",
            "style": "IPY_MODEL_dae7144a743744a5967554ba8d3f0eff",
            "value": " 328/328 [00:00&lt;00:00, 3.84kB/s]"
          }
        },
        "a40f0b91272545a6a9daaf1fb5db6d6f": {
          "model_module": "@jupyter-widgets/base",
          "model_module_version": "1.2.0",
          "model_name": "LayoutModel",
          "state": {
            "_model_module": "@jupyter-widgets/base",
            "_model_module_version": "1.2.0",
            "_model_name": "LayoutModel",
            "_view_count": null,
            "_view_module": "@jupyter-widgets/base",
            "_view_module_version": "1.2.0",
            "_view_name": "LayoutView",
            "align_content": null,
            "align_items": null,
            "align_self": null,
            "border": null,
            "bottom": null,
            "display": null,
            "flex": null,
            "flex_flow": null,
            "grid_area": null,
            "grid_auto_columns": null,
            "grid_auto_flow": null,
            "grid_auto_rows": null,
            "grid_column": null,
            "grid_gap": null,
            "grid_row": null,
            "grid_template_areas": null,
            "grid_template_columns": null,
            "grid_template_rows": null,
            "height": null,
            "justify_content": null,
            "justify_items": null,
            "left": null,
            "margin": null,
            "max_height": null,
            "max_width": null,
            "min_height": null,
            "min_width": null,
            "object_fit": null,
            "object_position": null,
            "order": null,
            "overflow": null,
            "overflow_x": null,
            "overflow_y": null,
            "padding": null,
            "right": null,
            "top": null,
            "visibility": null,
            "width": null
          }
        },
        "a54d3e3b19b143d6a3222271435691c9": {
          "model_module": "@jupyter-widgets/base",
          "model_module_version": "1.2.0",
          "model_name": "LayoutModel",
          "state": {
            "_model_module": "@jupyter-widgets/base",
            "_model_module_version": "1.2.0",
            "_model_name": "LayoutModel",
            "_view_count": null,
            "_view_module": "@jupyter-widgets/base",
            "_view_module_version": "1.2.0",
            "_view_name": "LayoutView",
            "align_content": null,
            "align_items": null,
            "align_self": null,
            "border": null,
            "bottom": null,
            "display": null,
            "flex": null,
            "flex_flow": null,
            "grid_area": null,
            "grid_auto_columns": null,
            "grid_auto_flow": null,
            "grid_auto_rows": null,
            "grid_column": null,
            "grid_gap": null,
            "grid_row": null,
            "grid_template_areas": null,
            "grid_template_columns": null,
            "grid_template_rows": null,
            "height": null,
            "justify_content": null,
            "justify_items": null,
            "left": null,
            "margin": null,
            "max_height": null,
            "max_width": null,
            "min_height": null,
            "min_width": null,
            "object_fit": null,
            "object_position": null,
            "order": null,
            "overflow": null,
            "overflow_x": null,
            "overflow_y": null,
            "padding": null,
            "right": null,
            "top": null,
            "visibility": null,
            "width": null
          }
        },
        "b084c9c467e34ae59a64513b8a8339fb": {
          "model_module": "@jupyter-widgets/base",
          "model_module_version": "1.2.0",
          "model_name": "LayoutModel",
          "state": {
            "_model_module": "@jupyter-widgets/base",
            "_model_module_version": "1.2.0",
            "_model_name": "LayoutModel",
            "_view_count": null,
            "_view_module": "@jupyter-widgets/base",
            "_view_module_version": "1.2.0",
            "_view_name": "LayoutView",
            "align_content": null,
            "align_items": null,
            "align_self": null,
            "border": null,
            "bottom": null,
            "display": null,
            "flex": null,
            "flex_flow": null,
            "grid_area": null,
            "grid_auto_columns": null,
            "grid_auto_flow": null,
            "grid_auto_rows": null,
            "grid_column": null,
            "grid_gap": null,
            "grid_row": null,
            "grid_template_areas": null,
            "grid_template_columns": null,
            "grid_template_rows": null,
            "height": null,
            "justify_content": null,
            "justify_items": null,
            "left": null,
            "margin": null,
            "max_height": null,
            "max_width": null,
            "min_height": null,
            "min_width": null,
            "object_fit": null,
            "object_position": null,
            "order": null,
            "overflow": null,
            "overflow_x": null,
            "overflow_y": null,
            "padding": null,
            "right": null,
            "top": null,
            "visibility": null,
            "width": null
          }
        },
        "b872cafc33004ac8940a3a1d9db2d219": {
          "model_module": "@jupyter-widgets/base",
          "model_module_version": "1.2.0",
          "model_name": "LayoutModel",
          "state": {
            "_model_module": "@jupyter-widgets/base",
            "_model_module_version": "1.2.0",
            "_model_name": "LayoutModel",
            "_view_count": null,
            "_view_module": "@jupyter-widgets/base",
            "_view_module_version": "1.2.0",
            "_view_name": "LayoutView",
            "align_content": null,
            "align_items": null,
            "align_self": null,
            "border": null,
            "bottom": null,
            "display": null,
            "flex": null,
            "flex_flow": null,
            "grid_area": null,
            "grid_auto_columns": null,
            "grid_auto_flow": null,
            "grid_auto_rows": null,
            "grid_column": null,
            "grid_gap": null,
            "grid_row": null,
            "grid_template_areas": null,
            "grid_template_columns": null,
            "grid_template_rows": null,
            "height": null,
            "justify_content": null,
            "justify_items": null,
            "left": null,
            "margin": null,
            "max_height": null,
            "max_width": null,
            "min_height": null,
            "min_width": null,
            "object_fit": null,
            "object_position": null,
            "order": null,
            "overflow": null,
            "overflow_x": null,
            "overflow_y": null,
            "padding": null,
            "right": null,
            "top": null,
            "visibility": null,
            "width": null
          }
        },
        "b8f0f10629544ad683bab2e2a7083739": {
          "model_module": "@jupyter-widgets/base",
          "model_module_version": "1.2.0",
          "model_name": "LayoutModel",
          "state": {
            "_model_module": "@jupyter-widgets/base",
            "_model_module_version": "1.2.0",
            "_model_name": "LayoutModel",
            "_view_count": null,
            "_view_module": "@jupyter-widgets/base",
            "_view_module_version": "1.2.0",
            "_view_name": "LayoutView",
            "align_content": null,
            "align_items": null,
            "align_self": null,
            "border": null,
            "bottom": null,
            "display": null,
            "flex": null,
            "flex_flow": null,
            "grid_area": null,
            "grid_auto_columns": null,
            "grid_auto_flow": null,
            "grid_auto_rows": null,
            "grid_column": null,
            "grid_gap": null,
            "grid_row": null,
            "grid_template_areas": null,
            "grid_template_columns": null,
            "grid_template_rows": null,
            "height": null,
            "justify_content": null,
            "justify_items": null,
            "left": null,
            "margin": null,
            "max_height": null,
            "max_width": null,
            "min_height": null,
            "min_width": null,
            "object_fit": null,
            "object_position": null,
            "order": null,
            "overflow": null,
            "overflow_x": null,
            "overflow_y": null,
            "padding": null,
            "right": null,
            "top": null,
            "visibility": null,
            "width": null
          }
        },
        "c8c5970ebf764a9588f5ec44c3cabc06": {
          "model_module": "@jupyter-widgets/base",
          "model_module_version": "1.2.0",
          "model_name": "LayoutModel",
          "state": {
            "_model_module": "@jupyter-widgets/base",
            "_model_module_version": "1.2.0",
            "_model_name": "LayoutModel",
            "_view_count": null,
            "_view_module": "@jupyter-widgets/base",
            "_view_module_version": "1.2.0",
            "_view_name": "LayoutView",
            "align_content": null,
            "align_items": null,
            "align_self": null,
            "border": null,
            "bottom": null,
            "display": null,
            "flex": null,
            "flex_flow": null,
            "grid_area": null,
            "grid_auto_columns": null,
            "grid_auto_flow": null,
            "grid_auto_rows": null,
            "grid_column": null,
            "grid_gap": null,
            "grid_row": null,
            "grid_template_areas": null,
            "grid_template_columns": null,
            "grid_template_rows": null,
            "height": null,
            "justify_content": null,
            "justify_items": null,
            "left": null,
            "margin": null,
            "max_height": null,
            "max_width": null,
            "min_height": null,
            "min_width": null,
            "object_fit": null,
            "object_position": null,
            "order": null,
            "overflow": null,
            "overflow_x": null,
            "overflow_y": null,
            "padding": null,
            "right": null,
            "top": null,
            "visibility": null,
            "width": null
          }
        },
        "c8dc388fe354464e8861732743c4428f": {
          "model_module": "@jupyter-widgets/controls",
          "model_module_version": "1.5.0",
          "model_name": "HTMLModel",
          "state": {
            "_dom_classes": [],
            "_model_module": "@jupyter-widgets/controls",
            "_model_module_version": "1.5.0",
            "_model_name": "HTMLModel",
            "_view_count": null,
            "_view_module": "@jupyter-widgets/controls",
            "_view_module_version": "1.5.0",
            "_view_name": "HTMLView",
            "description": "",
            "description_tooltip": null,
            "layout": "IPY_MODEL_c8c5970ebf764a9588f5ec44c3cabc06",
            "placeholder": "​",
            "style": "IPY_MODEL_1191d0cf08084198a8108a6131fd3b41",
            "value": "Generating train split: 100%"
          }
        },
        "dae7144a743744a5967554ba8d3f0eff": {
          "model_module": "@jupyter-widgets/controls",
          "model_module_version": "1.5.0",
          "model_name": "DescriptionStyleModel",
          "state": {
            "_model_module": "@jupyter-widgets/controls",
            "_model_module_version": "1.5.0",
            "_model_name": "DescriptionStyleModel",
            "_view_count": null,
            "_view_module": "@jupyter-widgets/base",
            "_view_module_version": "1.2.0",
            "_view_name": "StyleView",
            "description_width": ""
          }
        },
        "e442823e3dd84d69b72b4881ef45923f": {
          "model_module": "@jupyter-widgets/base",
          "model_module_version": "1.2.0",
          "model_name": "LayoutModel",
          "state": {
            "_model_module": "@jupyter-widgets/base",
            "_model_module_version": "1.2.0",
            "_model_name": "LayoutModel",
            "_view_count": null,
            "_view_module": "@jupyter-widgets/base",
            "_view_module_version": "1.2.0",
            "_view_name": "LayoutView",
            "align_content": null,
            "align_items": null,
            "align_self": null,
            "border": null,
            "bottom": null,
            "display": null,
            "flex": null,
            "flex_flow": null,
            "grid_area": null,
            "grid_auto_columns": null,
            "grid_auto_flow": null,
            "grid_auto_rows": null,
            "grid_column": null,
            "grid_gap": null,
            "grid_row": null,
            "grid_template_areas": null,
            "grid_template_columns": null,
            "grid_template_rows": null,
            "height": null,
            "justify_content": null,
            "justify_items": null,
            "left": null,
            "margin": null,
            "max_height": null,
            "max_width": null,
            "min_height": null,
            "min_width": null,
            "object_fit": null,
            "object_position": null,
            "order": null,
            "overflow": null,
            "overflow_x": null,
            "overflow_y": null,
            "padding": null,
            "right": null,
            "top": null,
            "visibility": null,
            "width": null
          }
        },
        "e8b66d0b024d4fa79b665621abe00ee8": {
          "model_module": "@jupyter-widgets/controls",
          "model_module_version": "1.5.0",
          "model_name": "ProgressStyleModel",
          "state": {
            "_model_module": "@jupyter-widgets/controls",
            "_model_module_version": "1.5.0",
            "_model_name": "ProgressStyleModel",
            "_view_count": null,
            "_view_module": "@jupyter-widgets/base",
            "_view_module_version": "1.2.0",
            "_view_name": "StyleView",
            "bar_color": null,
            "description_width": ""
          }
        },
        "eed13e15d2d146e4b9a02cb8f7ddc310": {
          "model_module": "@jupyter-widgets/controls",
          "model_module_version": "1.5.0",
          "model_name": "FloatProgressModel",
          "state": {
            "_dom_classes": [],
            "_model_module": "@jupyter-widgets/controls",
            "_model_module_version": "1.5.0",
            "_model_name": "FloatProgressModel",
            "_view_count": null,
            "_view_module": "@jupyter-widgets/controls",
            "_view_module_version": "1.5.0",
            "_view_name": "ProgressView",
            "bar_style": "success",
            "description": "",
            "description_tooltip": null,
            "layout": "IPY_MODEL_b084c9c467e34ae59a64513b8a8339fb",
            "max": 28891766,
            "min": 0,
            "orientation": "horizontal",
            "style": "IPY_MODEL_95da74a7f82a4940b89e0d3ac518dffe",
            "value": 28891766
          }
        },
        "f435b1ead1f14e4d9c4bca25734a8a55": {
          "model_module": "@jupyter-widgets/controls",
          "model_module_version": "1.5.0",
          "model_name": "HTMLModel",
          "state": {
            "_dom_classes": [],
            "_model_module": "@jupyter-widgets/controls",
            "_model_module_version": "1.5.0",
            "_model_name": "HTMLModel",
            "_view_count": null,
            "_view_module": "@jupyter-widgets/controls",
            "_view_module_version": "1.5.0",
            "_view_name": "HTMLView",
            "description": "",
            "description_tooltip": null,
            "layout": "IPY_MODEL_b872cafc33004ac8940a3a1d9db2d219",
            "placeholder": "​",
            "style": "IPY_MODEL_33bd665be768416a9ed4504329a77ee6",
            "value": "Downloading data: 100%"
          }
        },
        "fd4e60b6ff1f443db1e2ddb856cd4e10": {
          "model_module": "@jupyter-widgets/base",
          "model_module_version": "1.2.0",
          "model_name": "LayoutModel",
          "state": {
            "_model_module": "@jupyter-widgets/base",
            "_model_module_version": "1.2.0",
            "_model_name": "LayoutModel",
            "_view_count": null,
            "_view_module": "@jupyter-widgets/base",
            "_view_module_version": "1.2.0",
            "_view_name": "LayoutView",
            "align_content": null,
            "align_items": null,
            "align_self": null,
            "border": null,
            "bottom": null,
            "display": null,
            "flex": null,
            "flex_flow": null,
            "grid_area": null,
            "grid_auto_columns": null,
            "grid_auto_flow": null,
            "grid_auto_rows": null,
            "grid_column": null,
            "grid_gap": null,
            "grid_row": null,
            "grid_template_areas": null,
            "grid_template_columns": null,
            "grid_template_rows": null,
            "height": null,
            "justify_content": null,
            "justify_items": null,
            "left": null,
            "margin": null,
            "max_height": null,
            "max_width": null,
            "min_height": null,
            "min_width": null,
            "object_fit": null,
            "object_position": null,
            "order": null,
            "overflow": null,
            "overflow_x": null,
            "overflow_y": null,
            "padding": null,
            "right": null,
            "top": null,
            "visibility": null,
            "width": null
          }
        }
      }
    }
  },
  "nbformat": 4,
  "nbformat_minor": 0
}
