{
  "cells": [
    {
      "cell_type": "code",
      "execution_count": 1,
      "metadata": {
        "id": "pKvmbPUk6UP-"
      },
      "outputs": [],
      "source": [
        "!pip install -q datasets"
      ]
    },
    {
      "cell_type": "code",
      "execution_count": 2,
      "metadata": {
        "id": "TwFcEEI46I53"
      },
      "outputs": [],
      "source": [
        "from transformers import AutoTokenizer\n",
        "import torch.nn as nn\n",
        "from torch.utils.data import DataLoader\n",
        "import torch\n",
        "\n",
        "# #extract pretrained tokenizer from huggingface\n",
        "# tokenizer=AutoTokenizer.from_pretrained('gpt2')\n",
        "# tokenizer\n",
        "\n",
        "device='cuda' if torch.cuda.is_available() else 'cpu'"
      ]
    },
    {
      "cell_type": "markdown",
      "metadata": {
        "id": "nKb1b-FxRakR"
      },
      "source": [
        "## Load the English to Nepali Translation Dataset From Huggingface"
      ]
    },
    {
      "cell_type": "code",
      "execution_count": 3,
      "metadata": {
        "colab": {
          "base_uri": "https://localhost:8080/"
        },
        "id": "RdT2iblx6I56",
        "outputId": "b0a5e45f-1009-4e55-d721-650ac525cd11"
      },
      "outputs": [
        {
          "output_type": "stream",
          "name": "stderr",
          "text": [
            "/usr/local/lib/python3.10/dist-packages/huggingface_hub/utils/_token.py:89: UserWarning: \n",
            "The secret `HF_TOKEN` does not exist in your Colab secrets.\n",
            "To authenticate with the Hugging Face Hub, create a token in your settings tab (https://huggingface.co/settings/tokens), set it as secret in your Google Colab and restart your session.\n",
            "You will be able to reuse this secret in all of your notebooks.\n",
            "Please note that authentication is recommended but still optional to access public models or datasets.\n",
            "  warnings.warn(\n"
          ]
        }
      ],
      "source": [
        "from datasets import load_dataset\n",
        "\n",
        "ds = load_dataset(\"CohleM/english-to-nepali\")"
      ]
    },
    {
      "cell_type": "code",
      "execution_count": 4,
      "metadata": {
        "colab": {
          "base_uri": "https://localhost:8080/"
        },
        "id": "662R7knd6I56",
        "outputId": "02171696-77ec-4390-f1aa-2b82524fcc9c"
      },
      "outputs": [
        {
          "output_type": "execute_result",
          "data": {
            "text/plain": [
              "Dataset({\n",
              "    features: ['en', 'ne'],\n",
              "    num_rows: 177334\n",
              "})"
            ]
          },
          "metadata": {},
          "execution_count": 4
        }
      ],
      "source": [
        "ds['train']"
      ]
    },
    {
      "cell_type": "markdown",
      "metadata": {
        "id": "4HiipCx6SRW6"
      },
      "source": [
        "## Make Train Dataloader"
      ]
    },
    {
      "cell_type": "code",
      "execution_count": 236,
      "metadata": {
        "colab": {
          "base_uri": "https://localhost:8080/"
        },
        "id": "z9LgHdHX6I56",
        "outputId": "a419baeb-aed5-45de-b0c8-8800d9d4bbeb"
      },
      "outputs": [
        {
          "output_type": "execute_result",
          "data": {
            "text/plain": [
              "<torch.utils.data.dataloader.DataLoader at 0x7bf5d01c8c70>"
            ]
          },
          "metadata": {},
          "execution_count": 236
        }
      ],
      "source": [
        "\n",
        "# making train dataloader\n",
        "train_dataloader=DataLoader(ds['train'],batch_size=128,shuffle=False)\n",
        "train_dataloader"
      ]
    },
    {
      "cell_type": "code",
      "execution_count": 237,
      "metadata": {
        "colab": {
          "base_uri": "https://localhost:8080/"
        },
        "id": "rJ4tJ0_s7uCz",
        "outputId": "988ad8a4-1b3d-459f-d873-5a7b1f8264b9"
      },
      "outputs": [
        {
          "output_type": "stream",
          "name": "stdout",
          "text": [
            "{'en': ['Technical committees will be attached to each ministry.', 'An Administrative Panel will examine and advise the Cabinet Development Committee regarding all proposals having to do with terms of employment or administrative rules and regulations applicable to personnel engaged in Five –Year Plan operations, procedures or delegations of authority.', 'A special committee will be appointed to advise on the coordination of foreign aid.', 'In districts where development is more intensive, the Badahakims  will be assisted by District Development Officer and staffs of technical advisors appointed by executive agencies of the central Government.', \"About three fourths of Nepal's 15 crores per year imports from India consist of textiles, cigarettes, sugar, petrol, etc., on which products excise taxes within India average about 20 per cent.\", 'As indicated above, the entire Five-Year Plan as projected calls for an outlay of approximately 33 crore rupees.', 'Full execution of the Plan would require in addition to the 22 crores just cited, about 11 crores, and this would come, necessarily, from external aid.', 'In the light of experience in other countries, this rate if advance is believed to be realistic and attainable.', 'The success of this programme will depend to a large degree, however, upon the availability of trained personnel: administrators.', 'The principal crops are paddy, corn, wheat, oil seeds, sugar cane, tobacco, buckwheat, jute, fruits and vegetables.', 'The benefits of this programme, while gradual in coming, can be far-reaching.', 'For agricultural production in Nepal can ultimately be increased by at least 25 to 30 per cent through improved varieties and new crops alone.', 'Plant and Animal Protection: entomology and plant pathology works are getting under way in Nepal for the purpose of controlling the more common and destructive insects attacking plants and parasites attacking animals.', 'A laboratory is being established to identify the more common destructive insects and parasites and to help perfect practical, cheap methods of control.', 'It is planned that an entomologist and pathologist with assistants will train and supervise field workers who will be organized into protection units for service on an expanding scale.', '(1) Milk collecting centres in Kathmandu Valley.', 'Tributaries from the mountainous north join to form three main rivers cutting through valleys to the south the Kosi in the east the Gandaki in the central west and the Karnali in the west : these each carry a minimum discharge of nearly 10000cusecs.', 'It is intended under the Five-Year Plan to recondition tow of the larger existing irrigation works (Jagdishpur and Judha) capable of watering about 9000 acres of paddy : to complete seven projects now under way with Indian and American aid which will when finished irrigate about 45000 acres ; and to undertake additional projects commanding some 200000 acres of arable land.', 'Facilities for the training in Nepal of junior technical personnel including overseers, draughtsmen, surveyors, computers, accounts and clerical staffs will be expanded during the first years in order to meet as rapidly as possible the growing requirements for such personnel.', '(4) by ropeway. The ropeway is of the greatest economic importance as it is by far the cheapest means of bringing foodstuffs and essential goods into Kathmandu Valley with its population of over 600000.', 'The ropeway has served the Valley very well indeed, and even now, working 12 hours per day, 60 tons of goods are brought in daily.', 'Pokhara : Pokhara is the best of the fair weather strips but is undulating It can wait for three years for development into an all weather runway', 'Some of the higher level personnel will probably receive periods of training in India under the Colombo Plan: the balance will be trained locally.', 'B. Wireless Communications.', 'Since the introduction of wireless communications about six years ago, thirty well distributed stations have been established.', 'All except two in Kathmandu and Biratnagar, are powered by petrol engine generators.', 'The number of lines is insufficient, however, and there is now a growing demand for the establishment of telephone exchanges in other cities especially Birganj and Biratnagar and for improvements and expansion of trunk lines which now total some 600 miles in length.', 'To date however the total installed capacity of the country , concentrated in Kathmandu and Biratnagar, amounts to only a few hundred kilowatts.', 'Subject to through going study and analysis before decisions are reached, priority consideration will be given to industries for the production of cement, forest products, sugar, textiles, cigarettes, and iron.', 'For cottage industries, training-cum –production centers will be created in different parts of the country, at least one each year-to develop and improve designs, quality production, and skills.', 'Fragmentary historical evidence indicates the past existence in Nepal of mining copper, iron and other minerals.', \"But in the aeons of geological time the present Himalayas are believed to be of relatively late origin and the gradual upheavals that brought about their formation on the earth's crust may have broken up or buried deep some previously existing deposits.\", 'The full facts are not known and cannot be known until extensive exploratory and investigative work has been done. There are several stages or aspects in the making of determinations as to the size and quality of mineral deposits.', 'This may be done by further drillings and by laboratory analysis of samples brought in for scientific testing.', 'Other minerals known to exist in Nepal but without any knowledge as to whether the amounts are commercially promising are cobalt, lead and zinc.', 'Each of these questions will be the subject of study and action under the Five-Year Plan.', 'Co-ordination will be maintained between the Bureau of Mining and other departments including those of Transport, Communications, Industry, Agriculture, Village Development, Education, Power and , of course, Planning and development.', 'A special board will be set up, according to present plans, to make loans to prospectors and mining ventures, conducted under technical supervision of the Bureau of Mines.', 'Within the Bureau will be established services of geology, ore dressing, minerals analysis and metallurgy.', 'Ridges stretching southward from Himalayan highlands to the lowlands of the Terai have interposed lofty deterrants to east-west trade within the country, an effect reinforced by un-bridged rivers flowing southward into India. Rugged terrain throughout the greater part of the country has been a sever obstacle to even north-south commerce, internal and external.', 'But the trade channedl that have exited - within the country and through a few high passes into the Tibet region of China, and across the flat 500 mile Indian frontier - are largely north to south channels.', 'Until recent years goods north of the Terai were carried almost exclusively by men and by pack animals along narrow and sometimes dangerous mountain trails.', 'Being the immediate source for Tibet of rice, sugar, tea, amber, turquoise, coral, brocades and many other items, Nepal was called by Tibetans Bhayul, the \"land of plenty\".', 'These developments might have presaged a rapid upsurge in trade with India and , through India, with overseas countries.', 'They did make for a considerable increase in the imports of Kathmandu valley.', 'The recent inauguration of air transport, serviced by the Indian Airlines Corporation, which links Kathmandu with India, on the one hand, and with a few interior centers on the on the other, has facilitated a dispersal of imports from India and beyond.', 'We have not had public and private commercial and banking institutions well adapted tot the promotion and support of trade.', 'During the past several years financial instability has reduced willingness to initiate or expand trade ventures.', 'Ad foreign trade relations - with India, China, and many other nations with whom Nepal has diplomatic relations have not had the desirable foundation of a series of well-drawn treaties of commerce and friendship.', 'Such a treaty with China, together with an improvement in transport facilities to the Tibetan border, would be a means to the restoration of our entrepot trade which could bean important aspect of our future commerce.', 'But the most urgently needed negotiations is for a revision of our present treaty with India which affects both the bulk of our foreign trade, which is with India, and potentially significant overseas trade which must pass through India.', 'The current treaty is now out-dated in its provisions relating to import and export tariffs, customs administration, the movements of goods in transit, and the administration of foreign exchange earnings.', 'Until our educational facilities in this field can be built up, selected advanced students will be sent abroad for training in the fields of our greatest need.', \"By these and other means effort will be made to enable commerce to play its important part in broadening the country's economic base and in raising the standard of living of all segments of the population.\", 'Grassland is also available for cattle breeding.', 'The surrounding forest, large and dense, abounds in high class timber resources for wood-working and derivative industries such as the manufacture of furniture, matches, paper, tanning materials and bamboo products.', 'Ample raw materials also exist for other small or medium-size industries such as oil-milling, rice-milling cigarette production and lime and cement manufacture.', \"Repeated attempts in the past to cultivate the valley's rich waste-land were thwarted by the deadly form of malaria which it is now possible, by modern methods, to control or eradicate.\", \"The conquest of malaria is the first major step toward the valley's development.\", 'The second is the building of roads and bridges.', 'Concurrently, studies and surveys are needed to establish the potentialities of the area and its primary needs.', 'The project will also help to preserve various forms of wild life.', 'And, in time, it should bring to the Government revenues which can be applied further development in the country.', 'Development of the area has already begun with preliminary surveys and the initiation of malaria control work, road building and other activities.', 'Plans have been drawn for a wide variety of developmental activities - such as construction of a 50 mile road from Hitaura to Narayangarh, spraying of 400 villages against malaria, settlement of 25,000 people, breaking and putting into cultivation 50,000 bighas of land, establishing co-operative societies, schools and health services, setting up a variety of local industries, co-operating with the Village Development administration in building up local activities and extension services, building an air strip, and carrying out a cadastral survey.', 'Steps are being taken to integrate the activities of National Government Departments in relation to this first multi-purpose field project undertaken in Nepal.', 'This kind of integration is a new feature in our administration.', 'the interested departments - especially Transport and Communications, Health, Irrigation, Industry, Agriculture, Forestry, Education, and Finance as well as Planning and Development are to take active part in the Project.', 'Panchayats or village councils will be organized and the development work accomplished will in large part be the product of the efforts of the local people.', 'There are only about 50 qualified medical officers attached to the different hospitals, and only one doctor for every 17 lakhs (170,000) people.', 'There are no health statistics available for the country, yet life expectancy is known to be low and maternal and child mortality to be high.', 'Intestinal parasites, filaria, tuberculosis, venereal diseases and malaria are common, the last-named affecting about 30% of the two -thirds of the population living in malarious areas.', 'A reorganization of Health Services to simplify administration increase and render more efficient the staff, and to improve co-ordination with Health aid programmes of other countries is urgently needed.', 'The Health Department proposes through the Five – Year Plan to establish a smooth running machinery for conducting the recognized functions of Health Services. It will do its utmost to promote health for all by providing:', 'Treatment of disease through improvement of hospitals and dispensaries, and an increase in their number and distribution.', 'Under the Five-Year Plan, work by the Local Health Services will become the responsibility of the Medical Officer through Health specialists, health assistants and female auxiliary health workers, public health nurses, and district health officers.', 'The malarial control programme will continue under the Insect Borne Disease Control Bureau.', 'An additional 423 beds (42 Ayurvedic) and 51 dispensaries will be added to present facilities.', 'The dispensaries will gradually be converted into Health Centres, as the health assistants, now being trained, become available.', 'A total of 276 nurses and 205 health assistants will be required to fulfil the plan of the programme as outlined below.', 'These, as well as other personnel required for staffing hospitals, etc. will have to be recruited on a tempo0rary basis from outside the country until enough can be trained locally.', 'Building of 51 dispensaries in the five years, 34 of which will be started the first year.', 'Conversion of Lalitpur and Bhaktapur hospitals into 25 bed institutions with increases in staffs.', 'Control of malaria through yearly spraying of all homes in malarious area, and by distributing anti-malarial drugs to the people: 425 lakhs of people will be thus protected. 8.', 'Repair and improvement of existing hospitals and dispensaries with additional staff and equipment.', 'Health Assistants School to be housed near the reorganized Bir Hospital permanently, graduation fifty students every year.', 'Ayurvedic hospital to be enlarged to a 50 bed hospital, and three Ayurvedic 15 bed hospitals and 43 dispensaries to be built.', 'Homeopathic Hospital building to be built and two dispensaries for each Zone to be constructed.', 'Aid to other existing institution, such as “Paropakar” society, the Tuberculosis Association, and “Swasthya Mandir” (Dhunkuta).', 'Making smallpox vaccination compulsory.', 'Requiring declaration of notifiable diseases.', 'Enforcement of international regulations relative to health certification of persons entering or leaving the country.', 'In the area of elementary education, plans are already functioning.', 'Teachers are being trained art the approximate rate of 400 per year; new schools are continually being opened by these new teachers: adult education has its ground work established in that each new teacher is prepared to organize and teach adult literacy classes.', 'The National Teachers Training Centre, plus the proposed School of Education and the Sub-teacher training centres can train approximately 600 teachers per year.', '1. Tri- Chandra College (Arts and Science)', '3. Women’s College (Arts) Nepal National College (Night School)', '2. Training a small nucleus of administrative officers to administer existing institutions under the control body by bringing them together in a unified University Organization administrative officers.', 'Practically no added internal cost is involved in these first two steps.', 'The third step is to organize immediately a professional School of Education with the existing National Teacher Training Centre as a nucleus, expanding it into a four year School of Education for the training of elementary and secondary school teachers.', 'Such a professional School of Agriculture should gradually incorporate an agricultural experiment station with suitable branch stations and the necessary research and service laboratories for soil and seed testing, animal diagnostic services, etc.', '5. A further step under current study is the advancement to university level of the School of Engineering discussed in the following chapter on training.', 'Such a school might well continue to offer short courses for technicians and supervisors needed by Nepal in its developmental programme.', 'The school will provide a degree-granting curriculum, with a common base for two years and in the last tow years, specialization in mechanical, electrical, civil, and industrial engineering and in mining.', 'In this school necessary non-duplicating laboratories would serve and help to integrate the work of materials testing laboratories, metallurgical laboratories, hydraulic laboratories and the like.', 'Ultimately the University should embrace a Medical School including nursing education and finally dentistry.', 'While immediate steps can be taken to bring together the existing colleges and the organization of added professional schools such as education and agriculture, the development of the Engineering School and Medical School will require several years in order to provide the necessary facilities and trained faculty members.', 'The Government is now spending approximately 41/2 lakhs of rupees annually to operate existing colleges.', 'It is estimated that for an additional expenditure of approximately 12 lakhs of rupees for the Five-Year Plan period a significant beginning toward a Comprehensive University Programme could be inaugurated.School of Education and a', 'Universities are not built in a day or a year.', 'Unless this problem is met with determination and vigor, there can be no possibility of success in attaining the goals of the Five- Year Plan.', 'Training more than any other single factor will determine the rate at which plans can be translated into action.', 'It is estimated that an average of at least 5 percent of each departmental budget over the five-year period will be spent for training, and that the percentage during the first two years will be much higher.', 'Thus total expenditures for training will not be less than Rs 1.66 cores (16.6 million) and the outlay required during the first year may be in the vicinity of Rs80 lakhs (8 millions).', 'Preliminary plans are being laid for the establishment, later, of a medical school as part of the new National University.', 'Mention has been made of plans, during the coming months, to conduct, with expert help, studies of the extent and quality of our resources---human and material, the present level of our national production and income, the fundamental features and current functioning of our economic institutions as well as the institutional evolution now needed in order to promote more effectively our own economic growth, and the ways in which both internal and aid resources may be employed most effectively in the interest of healthy economic advancement for the entire nation.', 'Reference has also been made to more detailed survey specifically related to development activities being planned in nearly all parts of the agricultural programme, and to projected work in the fields of forestry, irrigation, power, road building ropeway construction, communications, industry, mining and resettlement.', 'Present Economic Conditions', 'Historical Background', 'The history of planned process of economic development in Nepal is short.', 'Before 1951, some development activities were undertaken but their scope was very limited.', 'Among them were limited programmes to develop power and drinking water facilities in Kathmandu, health programmes in a few districts, some schools, and a college, a commercial bank, a few roads and some small-scale irrigation works.', 'However, the economic stimulus of World War II led to the establishment of the first modern industrial units Nepal.', 'Many of these failed to survive the immediate post-war period because of poor management and lack of technical knowledge.', 'Only very recently attention has been given to feasibility studies and the other prerequisites of sound industrial development.', 'Even after the political changes of 1951-52 relatively little progress was made.', 'The difficulties of changing the political and administrative structure were largely responsible.', 'First Five Year Plan (First Plan)'], 'ne': ['प्रत्येक मन्त्रालय अन्तर्गत शिल्प (टेक्निकल) कमिटीहरु गठन गरिनेछन्', 'एक प्रशासकीय कमिटी (पानेल)ले पञ्चबर्षीय योजना अन्तर्गत चाहिने कर्मचारीहरुको नियुक्ति, प्रशासन, नियम, कानून तथा प्रशासकीय र अर्थ सम्बन्धी कार्य प्रणाली इत्यादि विषयका सम्पूर्ण प्रस्तावहरु जाँची मन्त्रिमण्डल विकास समिति छेउ उचित कुराको सिफारिश गर्नेछ', 'विदेशी सहायताहरुमा सामंजस्य (मेल) ल्याई उपयोग गराउने कुरामा सल्लाह दिन एक विशेष समिति नियुक्ति हुनेछ', 'निजलाई सहायता दिन केन्द्रीय सरकारबाट नियुक्त भएका शिल्पज्ञहरु (टेक्निशियन) र जिल्ला विकास अफिसरहरु नियुक्त हुनेछन्', 'नेपालमा भारतबाट कपडा, चुरोट, सलाही, पेट्रोल, मटृीतेल, चिनी, सिमेन्ट इत्यादि गरी करीब रु. १५ करोडको मााल सामान पैठारी हुने अनुमान गरिन्छ जसमा सरदर २० प्रतिशत अन्त शुल्क लागेको छ', 'उक्त दुवै सरकारले नेपालमा पठाएका विशेषज्ञको लागि भएको खर्च यस रकममा समावेश भएको छैन', 'यसरी देशभित्र र बाहिरको पूंजी मिलाई यस पञ्चबर्षीय योजनालाई २२ करोड रुपैयां प्राप्त हुने अनुमान गरिन्छ', 'अरु देशको अनुभवबाट बिचार गर्दा ग्रामविकाश कार्यको यो प्रगति यथार्थबादी अर्थात् हामीले हासिल गर्न सक्ने अनुमान गरिन्छ।', 'ग्रामविकाश कार्यको सफल संचालनलाई योग्य कर्मचारी र सीप भएका मानिसको आवश्यकता पर्दछ', 'मुख्य अनाज धान , मकै, गहुँ, तीलहन, उखु, सुर्ती, फाफर, जुट, फल र सागपात तरकारी हुन्', 'सरकारले प्रत्येक बर्ष तराईको ४०० बिघा र पहाडको ४०० रोपनी जमीनमा उन्नत बीजको पैदावार गराउनेछ', 'जसबाट बर्षेनै सालाखाला १०,४०० मन मात्र उन्नत बीज प्राप्त भए पनि प्रतिबिघा दर? मनले १०,४०० बिघा जमीनमा सो बीज लाउन सकिनेछ यस उन्नत बीजको चलनले प्रतिबिघा १० मन मात्र अनाज ज्यादा फल्न गए पनि दर रु. ८ प्रतिमनले प्रतिबिघाको आम्दानी रु. ८० सम्म सजिलोसंगै बढ्न जानेछ।', 'अनाज तथा गाइंबस्तुको संरक्षण अनाज तथा गाईबस्तुमा लाग्ने बिध्वंशक रोग कीराको नियन्त्रण गर्ने कार्यहरू नेपालमा शुरु हुंदै छन्', 'यस कामको निमित्त एक प्रयोगशालाको स्थापना हुनेछ यस प्रयोगशालामा हुने अनुसन्धान र खोजले रोग, कीराको पहिचान र नियन्त्रण गर्ने सुगम र सस्तो तरीका हामीलाई दिन सक्नेछ', 'अनाज र पशुको संरक्षण गर्ने सेवाको बिस्तार गाउं गाउंमा गर्नका निमित्त चाहिने सहायक कर्मचारीको तालीम र उनीहरूको कामको रेखदेख बिशेषज्ञहरूले गर्नेछन्', '(१) काठमाडौं उपत्यकामा दूध जम्मा गर्ने केन्द्रहरूमा खडा गर्ने', 'सदासर्वदा हिउंले ढाकिने हिमालय पर्वत र घनाजंगलबाट निस्कने उत्तरबाट दक्षिणतर्फ बगिरहेका अनेक शाखा र उपशाखा भएका मुख्य तीन नदीहरू नेपालमा छन् पूर्वमा कोशी, मध्य नेपालमा गण्डकी र पश्मिमा कर्णाली', 'यस पञ्चबर्षीय अवधिभित्र हाल भइरहेको जगदीशपुर र जुद्धनहरको पुननिर्माण गरी ९,००० एकड धान खेतीको सिंचाइ गराउने र भारतको सहायता र नेपाल अमेरिकी संयुक्त योजनाबाट बन्न लागेको करीब ७५,००० एकड पटाउने सात सिंचाई कार्य सम्पूर्ण गरी अर्को २००,००० एकड पटाउने नयां नहरहरू बनाउने योजना भएको छ', 'हाल भइरहेको विशेषज्ञको अभावको पूर्ति गर्न विदेशी इञ्जीनियर र ओभरसियरहरूलाई म्यादीको रुपमा हामीले नियुक्त गरी काम लिन पर्नेछ र नेपाली उम्ेदवार प्राप्त भएपछि तिनीहरूले विदेशी इञ्जीनियर ओभरसियरको स्थान लिनेछन्', '(ख) रोप्वे काठमाडौं उपत्यकामा भरिया, मोटर, हवाइजहाज र रोप्वेको सहायताले मालसामान पैठारी गरिन्छ चार लाख जनसंख्या भएको काठमाडोंमा मालसामान ओसार्ने सबभन्दा सजिलो र सस्तो तरीका रोप्वे नै देखिन आएको छ।', 'हाल दिनको १२ घण्टा चलाएर यस रोप्वेबाट ६० टन सामान उपत्यकाभित्र ल्याइन्छ', '(३) पोखरा : अहिलेसम्म चालु भएको मौशमी हवाइ अय्.द्धा मध्ये पोखरा सबभन्दा असल गनिएको छ', 'कर्मचारीहरुको तालीम गर्ने व्यवस्था नेपालमै गराउने प्रबन्ध गराइने भएतापनि केही उच्च कक्षाका कर्मचारीहरुको चालीम कोलम्बो योजना अन्तर्गत भारतमा गराउनु आवश्यक देखिन्छ।', '(ख) आकाशवाणी', 'आकाशवाणी संचार सेवा छ बर्ष पहिले शुरु भएको हो र आज नेपालमा करीब ३० आकाशवाणी केन्द्रहरु स्थापना भएका छन्', 'काठमाडौं र बिराटनगर छाडी अरु ठाउंमा आकाशवाणीको काम पेट्रोल इञ्जीन जेनेरेटरको सहायताले भएकोे छ', 'विराटनगर, वीरगञ्ज र अरु शहरब्ााट पनि टेलिफोन एक्सचेन्जको र अहिले भइरहेको ६०० माइलको ट्रंक लाइनको सुधार र त्यसमा थप माग भइरहेको छ उपरोक्त ६०० माइलको टं्रक लाइनमा बहुतै ज्यादा कामको बोझ परेको देखिन्छ', 'तर हाल पानीबिजुलीको उपयोग केही सानो मात्रामा मात्र काठमाडौं र विराटनगरमा गरिएको छ औ बांकी जलस्रोत खेर गैरहेको छ', 'हाल सरकारले आर्थिक र शिल्पज्ञानकोपूरा अध्ययन गरी उचित ठहरेमा सिमेन्ट, चीनी, चुरोट, कपडा, फलाम तथा बनेको पैदावारसम्बन्धी उद्योगलाई प्राथमिकता दिने ठहर गरेको छ', 'घरेलु उद्योग विकासको निमित्त डिजाइन र पैदावारको गुणको मात्रा बढाउन तथा कालीगढहरूको सीपको बृद्धि गराउन कम से कम बर्षको एक टेक्निकल स्कूल देशका विभिन्न भागमा खेलिनेछ', 'नेपालमा तामा, फलाम तथा अरु केही खनिज पदार्थहरुको काम पुरानो समयदेखि भएको थियो भन्ने इतिहाबाट थाहा हुन्छ', 'उनीहरुमा खानीको काममा चाहिने सीप छ भन्ने कुरा छिमेकी देशहरुमा गई खानीको उद्योगमा लागिरहेका नेपालीहरुको संख्याले जनाउँदैछ।', 'नेपालको विशाल पर्वत खण्डमा खनिजपदार्थ भरपुर छ भन्ने धारणा भए पनि विज्ञानको दृष्टिकोणबाट हेर्दा हिमालय पर्वत धेरै पुरानो समयमा बनेको होइन भन्ने साबित हुन्छ र यस किसिमको नयाँ बनेको पहाडको तहहरुमा दबिएका खानीहरु साना र छरिएका हुनुपर्दछ।', 'यसरी खानीको पैलावट, गुण र शुद्धताको पत्ता प्रयोगशालामा गरिने वैज्ञानिक परीक्षणको सहायताबाट हुन सक्तछ।', 'अरु खनिज पदार्थ जस्तो सोभिता (कोबाल्ट) सीसा र जस्ता इत्यादि नेपालमा पाइन्छन् तर व्यवसायिक दृष्टिबाट कति लाभदायक छन् सो थाहा भएको छैन।', 'यी हरेक प्रश्नको अध्ययन र व्यवस्था यस पञ्चबर्षीय योजना समयभित्र गरिनेछ', 'डा ब्यूरो अफ माइन्स् ) को काम र यातायात, संचार, उद्योग, कृषि, ग्रामविकाश, शिक्षा, शक्ति र योजना विकाश विभागको काममा मेल राखिनेछ', 'खानी अड् डाको देखरेखमा खानीमा काम गर्न चाहिने उम्मेदवारहरुलाई चाहिने ऋृण दिन यस योजनानुसार एक विशेष समितिको स्थापना गर्ने निश्र् य भएको छ', 'भूगर्भ अनुसन्धानशाला, धातु गलान गर्ने खनिज वस्तुको विश्लेषण गर्ने इत्यादि विभाग खानी अड्् डाको अन्तर्गत रहनेछन', 'नेपालको वाणिज्यमा भौगोलिक परिस्थितिको गाढा छाप परेको देखिन्छ हिमालबाट दक्षिणतर्फ तराई मैदानसम्म फैलेको पर्वतमाला र दक्षिण मुख गरी भारतसम्मै बग्ने पूलहरु नलागेका धेरै नदीहरुले गर्दा पश्चिम र पूर्व नेपालको सम्पर्क ज्यादा कठिन सिद्ध भएको छ', 'यिनै कारणले गर्दा र उत्तर दक्षिणको सम्पर्क पनि सजिलो नहुंदा देशभित्रको व्यापारमा मात्र होइन देशबाहिरको व्यापारमा पनि बाधा परेको छ', 'तर थोेरै पहाडी भंज्याङ र घाँटीहरुको सुबिधाले गर्दा तिब्बतसंग र उत्तर दक्षिण बाटो गरी देशभित्रै तथा ५०० माइल सीमा भएको भारतसंग व्यापार केही मात्रामा चलिरहेको मात्र छ।', 'चामल, चीनी, चिया, किन्खाप, अम्बर, यू, मुंगा, इत्यादि प्रशस्त नेपालबाट तिब्बततिर निकासी हुनाले तिब्बतका मानिसहरु नेपाललाई भैयुल अर्थात धनी देश भन्दथे', 'यी कुराहरुको विकाशले गर्दा भारत र समुद्रपारका देशहरुसंग नेपालको व्यापार निकै बढ् न पर्ने हो', 'काठमाडों उपत्यकाभित्रको पैठारी धेरै बढी सकेको छ', 'इन्डियन एयरलाइन्स कर्पोरेशनद्धारा चलाइएको हवाइ सर्भिसले काठमाडौंलाई भारतसंग र नेपालभित्रैका केही महत्वपूर्ण स्थानहरुलाई आपसमा जोडेको हुनाले भारत र समुद्रपारबाट आउनेे पैठारीको व्यापारलाई सुबिधा भएको छ।', 'व्यापारको सुबिधा बढाइ वाणिज्यको विकाशको निमित्त चाहिने गैर सरकारी वा सरकारी बैेंकहरुको पनि नेपालमा कमी छ', 'धेरै बर्षसम्म देशमा भएको आर्थिक अस्थिरताले पनि वाणिज्यको विकाश गर्न दिएको छैन', 'सरकारको स्पष्ट वाणिज्य नीति पनि निर्धारित भएको छैन भारत, चीन र अरु देशसंगको वैदेशिक वाणिज्य सम्बन्ध कुनै मजबुत सन्धिको जगमा स्थापित भएको छैन', 'तिब्बतको सीमासम्म पुग्ने बाटोघाटोको पुनरुद्धार गर्न सकेमा नेपालको परम्परादेखि चलिआएको तिब्बतसंगको व्यापारमा ठूलो बृद्धि भई यो व्यापार भविष्यको नेपाली बाणिज्य व्यवसायको एक महत्वपूर्ण अङ्ग पनि बन्न सकने छ।', 'नेपाल भारत भैत्री र वाणिज्य सन्धि विषय छलफल गरी उपयुक्त बनाउनु हालको निमित्त अत्यन्त आवश्य कुरो छ किनकि नेपालको व्यापार भारतसंग धेरै मात्रामा हुन्छ र समुद्रपारका देशहरुमा हुने हाम्रो व्यापार पनि भारत कै बाटो गरी चल्दछ।', 'निकाशी पैठारीसम्बन्धी चुंगी, भन्सारसम्बन्धी प्रशासन, आयात निर्यात हुने माल चलानी, विदेशी सिक्काहरुको संकलन र विनिमय सुविधामा पनि हाल भइरहेको नेपाल भारत वाणिज्य सन्धिले संतोषजनक कार्य गर्न सकेको छैन', 'हाम्रो वाणिज्य शिक्षा कार्यक्रमको पूर्ण विकाश नभएसम्म आवश्यक विषयमा केही योग्य छात्रहरु छानी नेपालबाहिर उच्चशिक्षाको निमित्त पठाउने प्रबन्ध हुनेछ', 'यी र अरु यस्तै उपायबाट देशको विकाश हुंदै जाने अर्थतन्त्रमा सहायता दिई जनताको जीवनस्तर उँ्कचो बनाउने काममा वाणिज्यले पूर्ण भाग लिन सकोस् भन्ने प्रयास गरिनेछ।', 'यहाँ चरनको निमित्त घाँसपात हुने भूमिको पनि कमी छैन', 'यहाँको घना वनमा सत्तरी, दलिन, खापा, मजबूत टिम्मा, फर्निचर, सलाई, कागज, खयर, बेतबाँसका सामान बनाउने उत्तम कच्चा सामानको भरमार छ', 'सिमेन्ट र चुना बनाउने, धान कुट् ने चुरोट बनाउने तथा तोरी पेल्ने कलकारखानाको निमित्त चाहिने कच्चा सामान यहाँ पाइन्छ।', 'औलाको प्रकोपले गर्दा रापतीदूनको पर्ती जमीनको उपयोग गर्ने पहिलेका प्रयाासहरु सफल हुन सकेकेा थिएनन् तर वैज्ञानिक ज्ञानको उपयोगले अब औलाको नियन्त्रत्रण हुन सक्तछ', 'औंलाको नियन्त्रण नै यस दूनको विकाशको निमित्त गरिने प्रथम प्रयास हुनेछ', 'औ उत्तिकै प्रााथमिकता बाटाघाटो बनाउने कामलाई पनि दिइनेछ', 'साथै यस दूनको प्राकृतिक सम्पत्ति र प्राथमिक आवश्यकताहरुको र अध्ययन पनि जारी रहनेछ', 'यस योजनाले जंगली जनावरको संरक्षणमा पनि ध्यान दिनेछ', 'यसले क्रमशः सरकारी आम्दानी बढाई देशको अरु भागको विकाशलाई चाहिने पूर्तिको निर्माण गर्ने पनि सहायता दिनेछ।', 'प्राथमिक सर्भे गरी औलाको नियन्त्रण, ग्रामविकाश कार्यको अनुष्टान तथा मार्ग निर्माण कार्यको प्रारम्भबाट यस क्षेत्रको विकाश शुरु भैसकेको छ', 'हेटौंडा, नारायणगढ मार्ग निर्माण, ४०० गाउँहरुको छिट् कन गरी औलाको नियन्त्रण, २५,००० मानिसको बसोबास ५०,००० विघा जमीनकाो जोताइ र वितरण, सहकारी संस्थाहरुको विकाश, स्कूल तथा डिस्पेन्सरीहरु, अस्पताल र स्वास्थ्य केन्द्रहरुको स्थापना, स्थानीय उद्योगधन्धाको विकाश, ग्रामविकाश, कार्यक्रमको विस्तार, कित्ता सर्भे, राष्टि्रय उद्यानको स्थापना, हवाइ मैदानको निर्माण, पोष्ट अफिसको सुविधा इत्यादि विकाश सम्बन्धी कार्यक्रमको योजना तयार भैसकेको छ।', 'सरकारका विभिन्न विभागहरुका कार्यको रापतीदूनभित्र मेल गराई यो सर्वप्रथम बहुमुखी योजनाको काम गरिने भएको छ', 'हाम्रो प्रशासनमा यस किसिमको विभिन्न विभागहरुका कार्यको एकीकरणको नवीन प्रयोग हो', 'पब्लिक वर्कस् , नहर स्वास्थ्य, कृषि, ग्राम विकाश, वन, शिक्षा, अर्थ, सहकारी, उद्योग, सर्भे इत्यादि विभागले यस योजनाका संचालनमा साधकपूर्ण भाग लिनेछन्', 'ग्रामविकाश पञ्चायतको स्थापना गरी स्थानीय जनताको सहयोग र प्रयासबाट धेरैजसो विकाश कार्यहरु पूर्ण गरिनेछन्', 'हाल करीब ५० डाक्टरहरु मात्र नेपालमा काम गरिरहेका छन् यसरी १,७०,००० जनसंख्या प्रति एक डाक्टरको मात्र हिसाब पर्छ', 'यसरी प्रति बर्ष यस कामका निमित्त र सफाईका लागि सरकारबाट ८.५ लाख खर्च गरिने भएको छ राष्ट्रको स्वास्थ्यरक्षाको ख्यालबाट सरुवा रोगको नियन्त्रणम ध्यान दिनु आवश्यक कुरा हो।', 'नेपालमा जन्म मरणको तथ्यांक प्राप्त छैन तापनि नेपाली मनुष्यको जीवन छोटो छ औ सुत्केरो आइमाई र बालकको अकाल मृत्यु धेरै हुन्छ भन्ने कुरास्पष्ट छ पेटभित्र पाइने कीटाणु, फाइलेरिया, क्षय, धातुसम्बन्धी रोग र औलो नेपालमा प्रशस्त मात्रामा छन्', 'स्वास्थय सेवा मजबूत वनाउन पुर्नगठन र याकको ठूलो ्डाक्टरको सख्यामा बृध्दि गराउनु अत्यन्त जरुरी छ', 'स्वास्थ् य विभागले यस पन्चवषीय योजना काल भित्र स्वास्थ् य सेवाद्धारा गर्नु पर्ने कार्यक्रम पूर्ण गराउनका निमित्त चाहिने शासन यन्त्रको स्थापना गर्ने इरादा राख्द औ साथै निम्नलिखित कामहरुवाट अरु अझ वढी स्वास्थ्', '(४) अस्पताल र डिस्पेन्सरीको संख्यामा बृद्धि गराई रोगको उपचार।', 'पञ्चबर्िर्षय योजनाअन्तर्गत स्थानीय स्वास्थ्य सेवाको संचालन, स्वास्थ्य विशेषज्ञ, स्वास्थ्य सहायक, नारी उपकारी कार्यकर्ता जनस्वास्थ्य परिचारिका, जिल्ला स्वास्थ्य अधिकारीको सहायता लिई एक मेडिकल अफिसरले गर्नेछ', 'औलो नियन्त्रण कार्यक्रम इन्सपेक्टबोर्न डिजीज कन्ट्रोल व्यूरोको मातहतमा रहनेछ।', 'हाल भइरहेको स्वास्थ्य सुविधामा ४२३ अस्पतालका बेड र डिस्पेन्सरीहरु थप गरिनेछन्', 'यी डिस्पेन्सरीहरुलाई हाल तालीम हुन लागेको स्वास्थ्य विशेषज्ञहरु प्राप्त भएपछि क्रमशः स्वास्थ्य केन्द्रहरुमा परिणत गरिनेछ', 'यस कार्यक्रममा २७६ नर्स र २०५ स्वस्थ्य सहायकहरुको दरकार पर्नेछ', 'यी कार्यकर्ता र अस्पतालको संरचनालाई चाहिने कार्यकर्ता समेत स्थानीय मानिसहरुको तालीम सम्पूर्ण नभएसम्म म्यादीको रुपमा देशबाहिरबाट मगाई भर्ना गर्नुपर्नेछ।', '(४) ५वर्षभित्रमा ५१ डिस्पेन्सरी खोल्ने जसमध्ये ३४ डिस्पेन्सरी प्रथम वर्षमै स्थापना हुनेछन्', '(५) डाक्टरहरुको सँख्या वढाई ललितपुरमा १४ र भत्तपुरमा ५ वेडहरु थपी दुवै अस्पताालमाा', '(७) औलाहा ठाउंमा घरहरुको बार्षिक छिटकन र औलो बचाउने औषधिको बितरण गरी औलाको्नियन्त्रण गर्ने यस कार्यक्रमबाट कम से कम ४२.५ लाख मानिसको औलाबाट संरक्षण हुनेछ।', '(९) हाल भइरहेको अस्पताल र डिस्पेन्सरीहरुको मरमत र चाहिने कार्यकर्ताको थप हुनेछ', '(१०) स्वास्थ्य सहायक तालीम गर्ने स्कूल नवव्यवस्थस्थित वीर अस्पतालमाा स्थायी रुपले रहनेछ र बार्षिक ३० जनाको तालीम पूर्ण हुनेछ', '(१२) आयुर्वेदिक अस्पतालमा बेड ५० पुर्\\u200dयाइनेछ र तीन १५ बेडवाला आयुर्वेदिक अस्पताल र ४३ डिस्पेन्सरीहरु थप हुनेछन्', '(१३) होमियोपैथिक अस्पतालको घर बन्नेछ र दुई होमियोपैथिक डिस्पेन्सरी खुल्नेछन्', '(१४) परोपकार, क्षयरोग निवारण संस्था र स्वास्थ्य मण्डल जस्ता संस्थाहरुलाई सहायता दिइनेछ।', '(२) खोपाउन अनिवार्य गर्ने कानून', '(३) सूचना गर्नुपर्ने रोगलाई प्रकाश गर्नु नै पर्ने कानून', '(४) देशभित्र आउँदा वा देश बाहिर जाँदा स्वास्थ्यसम्बन्धी जाँचको प्रमाण पत्र अन्तराष्टि्रय', 'प्राथमिक शिक्षा प्रचार गर्ने योजना चालु भइसकेको छ', 'यस चालु भएको योजनाअनुसार बार्षिक ४०० शिक्षकहरु तालीम भैरहनेछन् यी नयाँ शिक्षकहरुले गाउँमा गई नयाँ प्राथमिक स्कूलहरु खोलेर पढाउन थालेका छन् र प्रौढ शिक्षाको प्रारम्भ पनि गरिरहेछन्', 'राष्टि्रय शिक्षक शिक्षणा शिविर तथा प्रस्तावित शिक्षा केन्द्र र उपशिक्षक तालीम केन्द्रबाट सालिन्दा ६०० शिक्षक तालीम गर्न सकिने हुनाले शिक्षकहरुको माग सजिलैसंग पूर्ति हुनेछ', '(१) त्रिचन्द्र कलेज (साहित्य र विज्ञान)', '(३) नेपाल नेसनल कलेज (रात्री)', '(२) यस आयोगले विश्वविद्यालयलाई चाहिने सुहाउँदो व्यवस्था गरी प्रशासनका निमित्त चाहिने केही अफिसरहरुको तालीम गराउने प्रबन्ध गर्नेछ', 'यी दुवै कुरामा कुनै थप खर्च चाहिनेछैन।', '(३) अहिले भइरहेको राष्टि्रय शिक्षक शिक्षण केन्द्रलाई आधार बनाई प्राथमिक र माध्यमिक तहका स्कूल शिक्षकहरुलाई ४ बर्षकोअबधिको शिक्षा दिने स्कूलको प्रबन्ध गर्ने', '(४) सर्वाङ्ग पूर्ण विश्वविद्यालयको बिकाशको निमित्त अर्को कदम गृह बिज्ञानसमेत गाभिएको एउटा कृषि स्कूल र एउटा बनसम्बन्धी शिक्षा दिने विभागको स्थापना हुनेछ', 'यस कृषि स्कूलमा क्रमशः चाहिने उपयुक्त शाखाहरु जस्तो कृषि, रसायन, अनाज र पशुको रोगसम्बन्धी अनुसन्धान केन्द्र र प्रयोगशाला इत्यादि समावेश गरिनेछन्।', '(५) विश्वविद्यालय शुरु भएको केही समयमा एउटा इन्जिनीयरिङ्ग स्कूलको स्थापना गर्ने अर्को कदम हुनेछ', 'यो स्कूलमा २ बर्षको एक सामान्य पाठ् यक्रम पढाई त्यसपछि अर्को २ बर्ष यांत्रिक मेकानिकल) वा पौर (सिविल ) इन्जिनीयरिङ्ग पढाई ४ बर्षको डिग्री कोर्स बनाइनेछ', 'मालसामानको परीक्षण गर्ने खानी, धातु, तथा जलशक्तिसम्बन्धी प्रयोगशालाहरुको व्यवस्था पनि गरिने छ।', '(६) यसपछि यस विश्शवविद्यालयमा एउटा नर्सिड० र दन्तचिकित्सा बिषयसमेत पढाइने मेडिकल स्कूल खोलिनेछ', 'हाल भईरहेका विद्यालयहरु मिलाएर ककृषि जस्तो व्यवसायिक स्कूलको स्थापना समेत गरी विश्वविद्यालय तुरुन्त खोल्न सकिने भए तापनि इन्जिनियरङ्ग तथा मेडिकल स्कूल खोल्न केही समय लाग्नेछ', 'हाल विद्यालयहरु चलाउन सालिन्दा ककरीब ४।५ लाख सरकारले खर्च गरिरहेको छ', 'यस पञ्चबर्षीय योजना अवधिभित्र करीब १२ लाख रुपैयाँको थप खर्चबाट महत्वपूर्ण विश्वविद्यालयको कार्यक्रम प्रारम्भ गर्न पाइनेछ।', 'विश्वविद्यालय एक दिन अथवा एक बर्षमा खडा हुन सक्ने कुरा होइन', 'यस समस्यालाइई समाधान गर्ने प्रयत्न भएन भने पञ्चबर्षीय योजना सफल हुने सम्भावना देखिन्न', 'प्रशासन र शिल्पसम्बनधी कर्मचारीको तालीमा नै अरु कुराममा भन्दा ज्यादा योजनाको सफलतामा निर्भर गर्दछ', 'यस काममा विभागीय विकाशसम्बन्धी बजेटको कम से कम ५ प्रतिशत खर्च हुनेछ र तालीम दिने काम ज्यादा तर पहिलो दुई बर्षभित्र गरिनेछ', 'यो पाँच बर्षभित्र तालीमको निमित्त हुने कुल खर्च रु. एक करोड छैस्टठी लाख मध्ये पहिलो बर्ष रु. अस्सी लाख लाग्नेअनुमान गरिएको छ', 'पञ्चबर्षीय याोजना समयभित्रै एक उच्चस्तरको मेडिकल स्कूल, जो राष्टि्रय विश्वविद्यालयको अङ्ग हुनेछ, को स्थापना पनि गर्नुपर्नेछ।', 'विशेषज्ञहरुको सहायता लिई आउदो केही महीनाभित्रै देशमा पाइन सकिने मानवशक्ति र भौतिक साधन तथा हालको राष्टि्रय उत्पादन र आम्दानी औै मौजुदा आर्थिक ढांचाको अध्ययन गरी सम्पूर्ण राष्ट्रको विकाशको निमित्त भित्री र बाहिरी साधनको उपयोग गरी देशको उन्नति गराउने योजनाको चर्चा अन्यत्रै भइसकेको छ', 'कृषिसम्बन्धी सबै कामहरु र वन, सिंचाइ, विद्युतशक्ति, सडक निर्माण, खानि, रोपवेकाो विस्तार, सबै किसिमका संचारको काम, उद्योग तथा पुनर्वास इत्यादिको लागि आवश्यक विस्तृत सर्भेकको महत्वको पनि उल्लेख भइसकेको छ', 'वर्तमान आर्थिक स्थिति', 'ऐतिहासिक पृष्ठभूमि', 'नेपालमा आधुनिक रुपमा आर्थिक विकाससम्बन्धी कार्यहरू प्रारम्भ भएको हालै मात्र हो', '२००७ साल  भन्दा अघिका सरकारबाट १।२ वटा सानातिना विकास कार्यहरू कार्यान्वित गराइएको भए तापनि यी कार्यहरूको महत्व धेरै सीमित थियो', 'त्यस बखत भएका विशेष उल्लेखनीय विकास कार्यहरूमध्ये काठमाडौंमा विद्युत तथा  पिउने पानीको व्यवस्था, काठमाडौं र अन्य केही जिल्लाहरूमा स्वास्थ्य सेवाको सुविधा, केही स्कूल तथा एक कलेजको स्थापना, एक बैंकको स्थापना र केही सानातिना सडक, नहर आदि हुन', 'खास गरी द्धितीय विश्व-युद्ध कालमा सोही युद्धबाट मिलेको प्रोत्साहनको फलस्वरुप नेपालमा सर्वप्रथम आधुनिक उद्योगहरूको स्थापना भए', 'कारण उद्योगहरू स्थापना गर्नु भन्दा अघि गर्नुपर्ने प्रारम्भिक सर्वेक्षण, प्राविधिक ज्ञान आदिको राम्रो विचार नगरी केवल विश्वखुलेका सबै उद्योगहरू हालसम्म चालू रहन सकेनन  -युद्धले गर्दा एक्कासी देखिन गएको', 'अतः बितेका अनुभवको आधारमा यी सब कुराहरूमा पनि राम्रो विचार पुर्\\u200dयाई हालै नयाँ उद्योगहरूको स्थापना स्थापना हुन लागेको छबजारको सम्भावनाको आधारमा मात्र सो उद्योगहरू खेलेकोहुँदा विश्व -युद्ध पछि यी उद्योगहरू ह्रास हुँदै गए', '२००७ सालको परिवर्तनपछि पनि केही वर्ष देशमा आर्थिक विकासका लागि विभिन्न क्षेत्रमा केही कदम  चालिए तर उस समयमा पनि स्वस्थ राजनैतिक वातावरणको अभावले गर्दा देश विकासतर्फ विशेष प्रगति हुन  सकेन', 'सायद यो कुरा एक राजनैतिक तथा प्रशासकीय प्रणालीबाट अर्को प्रणालीमा परिवर्तन हुँदा आइपर्ने संक्रमणकालीन स्थितिले गर्दा केही हदसम्म स्वाभाविक नै थियो।', 'प्रथम पञ्चवर्षीय योजना']}\n"
          ]
        }
      ],
      "source": [
        "# extracting a single batch from the traindataloader\n",
        "for data in train_dataloader:\n",
        "  print(data)\n",
        "  break"
      ]
    },
    {
      "cell_type": "code",
      "execution_count": 238,
      "metadata": {
        "id": "51TrkCaH6I57"
      },
      "outputs": [],
      "source": [
        "# making a dictionary of tokens for both english and nepali language\n",
        "\n",
        "# extract every sentence from the dataloader and tokenize it one by one.. not a good method. need to add padding manually by\n",
        "# deriving the maximum length of tokens for each batch and after that add padding to make the same length.\n",
        "# padding is needed beacuse we are making the batch. otherwise it is not needed in RNN.\n",
        "\n",
        "# for data in train_dataloader:\n",
        "\n",
        "#     for sentence in data['en']:\n",
        "#         t_dict['en'].append(tokenizer.encode(sentence))\n",
        "\n",
        "#     for sentence in data['ne']:\n",
        "#         t_dict['ne'].append(tokenizer.encode(sentence))\n",
        "\n",
        "#     break\n"
      ]
    },
    {
      "cell_type": "code",
      "execution_count": 239,
      "metadata": {
        "id": "Frd5QKjo6I57"
      },
      "outputs": [],
      "source": [
        "# gpt2 doesnt have special tokens to adding a padding token and start of sentence token\n",
        "# tokenizer.add_special_tokens({'pad_token':'<pad>'})\n",
        "# tokenizer.add_special_tokens({'bos_token':'<sos>'})"
      ]
    },
    {
      "cell_type": "code",
      "execution_count": 240,
      "metadata": {
        "id": "KvXz3wZL6I57"
      },
      "outputs": [],
      "source": [
        "# for data in train_dataloader:\n",
        "#     t_dict['en']=tokenizer(data['en'],padding=True)['input_ids']\n",
        "#     t_dict['ne']=tokenizer(data['ne'],padding=True)['input_ids']\n",
        "#     print(t_dict['en'])\n",
        "#     break"
      ]
    },
    {
      "cell_type": "markdown",
      "metadata": {
        "id": "HDOZy94ERGeS"
      },
      "source": [
        "## Building Custom Tokenizer"
      ]
    },
    {
      "cell_type": "code",
      "execution_count": 241,
      "metadata": {
        "id": "ey8vGa6oRI9P"
      },
      "outputs": [],
      "source": [
        "class Toke():\n",
        "    def __init__(self,text: str,final_vocab_size: int):\n",
        "        ''' text: (string) a chunk of text to train the tokenizer\n",
        "            final_vocab_size: (int) maximum number of tokens in the vocab\n",
        "        '''\n",
        "        self.final_vocab_size=final_vocab_size\n",
        "        self.tokens = text.encode(\"utf-8\") # raw bytes\n",
        "        self.tokens = list(map(int, self.tokens)) # convert to a list of integers in range 0..255 for convenience\n",
        "        self.ids = list(self.tokens) # copy so we don't destroy the original list\n",
        "        self.merges = {} # (int, int) -> int\n",
        "        self.vocab={idx: bytes([idx]) for idx in range(256)}\n",
        "\n",
        "    def get_stats(self,ids):\n",
        "        self.counts={}\n",
        "        for pair in zip(ids, ids[1:]):\n",
        "            self.counts[pair] = self.counts.get(pair, 0) + 1\n",
        "        return self.counts\n",
        "\n",
        "    def merge(self,ids, pair, idx):\n",
        "        i = 0\n",
        "        self.newids=[]\n",
        "        while i < len(ids):\n",
        "            if i < len(ids) - 1 and ids[i] == pair[0] and ids[i+1] == pair[1]:\n",
        "                self.newids.append(idx)\n",
        "                i += 2\n",
        "            else:\n",
        "                self.newids.append(ids[i])\n",
        "                i += 1\n",
        "        return self.newids\n",
        "\n",
        "    # make the vocab reamining\n",
        "    def create_final_vocab(self):\n",
        "        ''' creates final vocabulary dictionary using BPE '''\n",
        "        # create the merge dictionary using BPE algo\n",
        "        for i in range(self.final_vocab_size-256):\n",
        "            stats = self.get_stats(self.ids)\n",
        "            pair = max(stats, key=stats.get)\n",
        "            idx = 256 + i\n",
        "            print(f\"merging {pair} into a new token {idx}\")\n",
        "            self.ids = self.merge(self.ids, pair, idx)\n",
        "            self.merges[pair] = idx\n",
        "\n",
        "        # create final vocab\n",
        "        for (p0, p1), idx in self.merges.items():\n",
        "            self.vocab[idx] = self.vocab[p0] + self.vocab[p1]\n",
        "\n",
        "\n",
        "    def encode(self,text):\n",
        "        '''given a string, return list of integers (the tokens)'''\n",
        "        tokens = list(text.encode(\"utf-8\"))\n",
        "        while len(tokens) >= 2:\n",
        "            stats = self.get_stats(tokens)\n",
        "            pair = min(stats, key=lambda p: self.merges.get(p, float(\"inf\")))\n",
        "            if pair not in self.merges:\n",
        "                break # nothing else can be merged\n",
        "            idx = self.merges[pair]\n",
        "            tokens = self.merge(tokens, pair, idx)\n",
        "        return tokens\n",
        "\n",
        "    def decode(self,ids):\n",
        "        '''given ids (list of integers), return Python string'''\n",
        "        tokens = b\"\".join(self.vocab[idx] for idx in ids)\n",
        "        text = tokens.decode(\"utf-8\", errors=\"replace\")\n",
        "        return text\n",
        "\n"
      ]
    },
    {
      "cell_type": "markdown",
      "metadata": {
        "id": "i3oEt0eI0y8_"
      },
      "source": [
        "### Use Already Trained Custom Tokenizer\n",
        "  1. Load the save tokenizer from `custom_tokenizer.pt` file"
      ]
    },
    {
      "cell_type": "code",
      "execution_count": 242,
      "metadata": {
        "id": "Oq6iIlyy0y8_"
      },
      "outputs": [],
      "source": [
        "#Load the saved tokenizer\n",
        "otoke=torch.load('/content/custom_tokenizer.pt')\n",
        "\n",
        "\n",
        "# to train the tokenizer\n",
        "# otoke=Toke(text=\"<your text here> \",final_vocab_size=1000)\n",
        "# otoke.create_final_vocab()\n",
        "\n",
        "# adding start of sentence token in vocab\n",
        "otoke.vocab[1000]=b'<sos>'\n",
        "otoke.vocab[1001]=b'<pad>'\n",
        "otoke.vocab[1002]=b'<eos>'"
      ]
    },
    {
      "cell_type": "markdown",
      "metadata": {
        "id": "VZsFmVRWKdH3"
      },
      "source": [
        "## Build Encoder for Langugage Translation Task"
      ]
    },
    {
      "cell_type": "code",
      "execution_count": 264,
      "metadata": {
        "id": "lpHnCMR56I59"
      },
      "outputs": [],
      "source": [
        "class Encoder(nn.Module):\n",
        "    def __init__(self):\n",
        "        super().__init__()\n",
        "        self.embedding=nn.Embedding(1003,128,padding_idx=1001)\n",
        "        self.rnn=nn.GRU(128,hidden_size=32,batch_first=True)\n",
        "\n",
        "\n",
        "    def forward(self,x,hidden=None):\n",
        "        x=self.embedding(x)\n",
        "        x,hidden=self.rnn(x,hidden)\n",
        "        return x,hidden\n"
      ]
    },
    {
      "cell_type": "code",
      "execution_count": 265,
      "metadata": {
        "colab": {
          "base_uri": "https://localhost:8080/"
        },
        "id": "g8uWjQBz6I59",
        "outputId": "d6772acb-7123-4291-bdea-ec3933b86dce"
      },
      "outputs": [
        {
          "output_type": "execute_result",
          "data": {
            "text/plain": [
              "Encoder(\n",
              "  (embedding): Embedding(1003, 128, padding_idx=1001)\n",
              "  (rnn): GRU(128, 32, batch_first=True)\n",
              ")"
            ]
          },
          "metadata": {},
          "execution_count": 265
        }
      ],
      "source": [
        "model_rnn=Encoder()\n",
        "model_rnn.to(device)"
      ]
    },
    {
      "cell_type": "code",
      "execution_count": 245,
      "metadata": {
        "id": "lzCQs-4w6I59"
      },
      "outputs": [],
      "source": [
        "# enc_out,enc_hid=model_rnn(torch.tensor(otoke.encode(data['en'][0])).unsqueeze(0))"
      ]
    },
    {
      "cell_type": "code",
      "execution_count": 246,
      "metadata": {
        "id": "W5O1sDIt6I59"
      },
      "outputs": [],
      "source": [
        "# enc_out.shape,enc_hid.shape"
      ]
    },
    {
      "cell_type": "code",
      "execution_count": 247,
      "metadata": {
        "id": "pznL-EHI6I59"
      },
      "outputs": [],
      "source": [
        "# torch.tensor(t_dict['en']).shape"
      ]
    },
    {
      "cell_type": "markdown",
      "metadata": {
        "id": "BtzQqDv2Kmk0"
      },
      "source": [
        "## Build Decoder for Language Translation Task"
      ]
    },
    {
      "cell_type": "code",
      "execution_count": 266,
      "metadata": {
        "id": "KP3_Z3PG6I59"
      },
      "outputs": [],
      "source": [
        "class Decoder(nn.Module):\n",
        "    def __init__(self):\n",
        "        super().__init__()\n",
        "\n",
        "        self.embedding=nn.Embedding(1003,128,padding_idx=1001)\n",
        "        self.rnn=nn.GRU(128,hidden_size=32,batch_first=True)\n",
        "        self.linear=nn.Linear(32,1003)\n",
        "\n",
        "\n",
        "    def forward(self,encoder_outputs,encoder_hidden,target_tensor=None):\n",
        "\n",
        "        batch_size=encoder_outputs.shape[0]\n",
        "        decoder_input=torch.empty(batch_size,1,dtype=torch.long,device='cuda').fill_(torch.tensor(1000))#(torch.tensor(tokenizer.encode(tokenizer.bos_token)[0]))\n",
        "        decoder_hidden=encoder_hidden\n",
        "        decoder_outputs=[]\n",
        "\n",
        "        for i in range(target_tensor.shape[1]):\n",
        "        # for i in range(50):\n",
        "          decoder_out,decoder_hidden=self.forward_step(decoder_input,decoder_hidden)\n",
        "          decoder_outputs.append(decoder_out)\n",
        "\n",
        "\n",
        "          if target_tensor is not None:\n",
        "              if (target_tensor[:,i]).tolist().count(1001)/len(target_tensor[:,i])>0.75:\n",
        "                break\n",
        "                # pass\n",
        "              decoder_input=target_tensor[:,i].unsqueeze(1)\n",
        "          else:\n",
        "              _, topi = decoder_out.topk(1)\n",
        "              decoder_input = topi.squeeze(-1).detach()\n",
        "\n",
        "        decoder_outputs = torch.cat(decoder_outputs, dim=1)\n",
        "        decoder_outputs = nn.functional.log_softmax(decoder_outputs, dim=-1)\n",
        "        return decoder_outputs, decoder_hidden\n",
        "\n",
        "    def forward_step(self,input,hidden):\n",
        "        out=self.embedding(input)\n",
        "        out,hidden=self.rnn(out,hidden)\n",
        "        out=self.linear(out)\n",
        "        return out,hidden\n",
        "\n"
      ]
    },
    {
      "cell_type": "code",
      "execution_count": 267,
      "metadata": {
        "colab": {
          "base_uri": "https://localhost:8080/"
        },
        "id": "9aJTz6Rg6I59",
        "outputId": "829e553f-d299-4358-c6bd-c91e882009e8"
      },
      "outputs": [
        {
          "output_type": "execute_result",
          "data": {
            "text/plain": [
              "Decoder(\n",
              "  (embedding): Embedding(1003, 128, padding_idx=1001)\n",
              "  (rnn): GRU(128, 32, batch_first=True)\n",
              "  (linear): Linear(in_features=32, out_features=1003, bias=True)\n",
              ")"
            ]
          },
          "metadata": {},
          "execution_count": 267
        }
      ],
      "source": [
        "dec_rnn=Decoder()\n",
        "dec_rnn.to(device)"
      ]
    },
    {
      "cell_type": "code",
      "execution_count": 250,
      "metadata": {
        "id": "KIJ-_Oaa6I5-"
      },
      "outputs": [],
      "source": [
        "# dec_out,dec_hidden=dec_rnn(encoder_outputs=enc_out.to(device),encoder_hidden=enc_hid.to(device),target_tensor=torch.tensor(t_dict['ne']).to(device))\n",
        "# dec_out.shape,dec_hidden.shape\n"
      ]
    },
    {
      "cell_type": "code",
      "execution_count": 251,
      "metadata": {
        "id": "fB2tDn256I5-"
      },
      "outputs": [],
      "source": [
        "# outty=dec_out.argmax(dim=-1)\n",
        "# outty.shape"
      ]
    },
    {
      "cell_type": "code",
      "execution_count": 252,
      "metadata": {
        "id": "TMxIPFaQ6I5-"
      },
      "outputs": [],
      "source": [
        "# tokenizer.decode(outty[3])"
      ]
    },
    {
      "cell_type": "code",
      "execution_count": 253,
      "metadata": {
        "id": "X6CoUpkq9H6F"
      },
      "outputs": [],
      "source": [
        "# len(train_dataloader)"
      ]
    },
    {
      "cell_type": "markdown",
      "metadata": {
        "id": "_vLrsUsr6718"
      },
      "source": [
        "## Train the Language Translation Model"
      ]
    },
    {
      "cell_type": "code",
      "execution_count": 280,
      "metadata": {
        "id": "9x_hIHyC8seQ"
      },
      "outputs": [],
      "source": [
        "# model_rnn=torch.load('/content/Lencoder.pt',map_location=torch.device(device))\n",
        "# dec_rnn=torch.load('/content/Ldecoder.pt',map_location=torch.device(device))\n",
        "\n",
        "# optimizers for encoder and decoder\n",
        "encoder_optimizer=torch.optim.Adam(model_rnn.parameters(),lr=0.1)\n",
        "decoder_optimizer=torch.optim.Adam(dec_rnn.parameters(),lr=0.1)\n",
        "\n",
        "# loss function\n",
        "criterion=nn.NLLLoss()"
      ]
    },
    {
      "cell_type": "code",
      "execution_count": 284,
      "metadata": {
        "id": "BNG-xuDhCMbV"
      },
      "outputs": [],
      "source": [
        "train_loss=[]"
      ]
    },
    {
      "cell_type": "code",
      "execution_count": 285,
      "metadata": {
        "colab": {
          "base_uri": "https://localhost:8080/"
        },
        "collapsed": true,
        "id": "VqQUf10k64nG",
        "outputId": "ab310cbe-268b-48e9-c86b-bdc28647dfdc"
      },
      "outputs": [
        {
          "output_type": "stream",
          "name": "stdout",
          "text": [
            "Epoch: 1  Loss: 1.7872253060340881\n",
            "Epoch: 2  Loss: 1.7653364539146423\n",
            "Epoch: 3  Loss: 1.750616729259491\n",
            "Epoch: 4  Loss: 1.7364986538887024\n",
            "Epoch: 5  Loss: 1.7274382710456848\n",
            "Epoch: 6  Loss: 1.7164854407310486\n",
            "Epoch: 7  Loss: 1.709526777267456\n",
            "Epoch: 8  Loss: 1.701742172241211\n",
            "Epoch: 9  Loss: 1.693630039691925\n",
            "Epoch: 10  Loss: 1.68800288438797\n",
            "Epoch: 11  Loss: 1.6859700083732605\n",
            "Epoch: 12  Loss: 1.6860649585723877\n",
            "Epoch: 13  Loss: 1.676839530467987\n",
            "Epoch: 14  Loss: 1.6745494604110718\n",
            "Epoch: 15  Loss: 1.676776647567749\n",
            "Epoch: 16  Loss: 1.6669675707817078\n",
            "Epoch: 17  Loss: 1.6618999242782593\n",
            "Epoch: 18  Loss: 1.6581740379333496\n",
            "Epoch: 19  Loss: 1.6559851169586182\n",
            "Epoch: 20  Loss: 1.649311602115631\n",
            "Epoch: 21  Loss: 1.6468201279640198\n",
            "Epoch: 22  Loss: 1.6452834606170654\n",
            "Epoch: 23  Loss: 1.642846167087555\n",
            "Epoch: 24  Loss: 1.640954077243805\n",
            "Epoch: 25  Loss: 1.6415133476257324\n",
            "Epoch: 26  Loss: 1.6405166983604431\n",
            "Epoch: 27  Loss: 1.63418048620224\n",
            "Epoch: 28  Loss: 1.6393553018569946\n",
            "Epoch: 29  Loss: 1.6368181109428406\n",
            "Epoch: 30  Loss: 1.634942650794983\n",
            "Epoch: 31  Loss: 1.6417757272720337\n",
            "Epoch: 32  Loss: 1.6381725072860718\n",
            "Epoch: 33  Loss: 1.6354424357414246\n",
            "Epoch: 34  Loss: 1.6375579237937927\n",
            "Epoch: 35  Loss: 1.6410688161849976\n",
            "Epoch: 36  Loss: 1.6350563168525696\n",
            "Epoch: 37  Loss: 1.6362360119819641\n",
            "Epoch: 38  Loss: 1.625863492488861\n",
            "Epoch: 39  Loss: 1.6203932762145996\n",
            "Epoch: 40  Loss: 1.6171131134033203\n",
            "Epoch: 41  Loss: 1.619466483592987\n",
            "Epoch: 42  Loss: 1.617383062839508\n",
            "Epoch: 43  Loss: 1.6169264316558838\n",
            "Epoch: 44  Loss: 1.6129363179206848\n",
            "Epoch: 45  Loss: 1.6125105619430542\n",
            "Epoch: 46  Loss: 1.6167013049125671\n",
            "Epoch: 47  Loss: 1.618482232093811\n",
            "Epoch: 48  Loss: 1.6171550154685974\n",
            "Epoch: 49  Loss: 1.6110118627548218\n",
            "Epoch: 50  Loss: 1.610899806022644\n",
            "Epoch: 51  Loss: 1.6029748916625977\n",
            "Epoch: 52  Loss: 1.602985143661499\n",
            "Epoch: 53  Loss: 1.6066527962684631\n",
            "Epoch: 54  Loss: 1.6076915860176086\n",
            "Epoch: 55  Loss: 1.6086991429328918\n",
            "Epoch: 56  Loss: 1.6059486865997314\n",
            "Epoch: 57  Loss: 1.6002911925315857\n",
            "Epoch: 58  Loss: 1.595373511314392\n",
            "Epoch: 59  Loss: 1.5980156064033508\n",
            "Epoch: 60  Loss: 1.597401738166809\n",
            "Epoch: 61  Loss: 1.5949228405952454\n",
            "Epoch: 62  Loss: 1.5987499952316284\n",
            "Epoch: 63  Loss: 1.595175325870514\n",
            "Epoch: 64  Loss: 1.5962510108947754\n",
            "Epoch: 65  Loss: 1.5996429324150085\n",
            "Epoch: 66  Loss: 1.6006974577903748\n",
            "Epoch: 67  Loss: 1.6035247445106506\n",
            "Epoch: 68  Loss: 1.6033833026885986\n",
            "Epoch: 69  Loss: 1.6083018779754639\n",
            "Epoch: 70  Loss: 1.6050010323524475\n",
            "Epoch: 71  Loss: 1.6055723428726196\n",
            "Epoch: 72  Loss: 1.6128195524215698\n",
            "Epoch: 73  Loss: 1.6126200556755066\n",
            "Epoch: 74  Loss: 1.6111180782318115\n",
            "Epoch: 75  Loss: 1.6081319451332092\n",
            "Epoch: 76  Loss: 1.6021109819412231\n",
            "Epoch: 77  Loss: 1.6071104407310486\n",
            "Epoch: 78  Loss: 1.6062626242637634\n",
            "Epoch: 79  Loss: 1.6032543778419495\n",
            "Epoch: 80  Loss: 1.6002156138420105\n",
            "Epoch: 81  Loss: 1.5979317426681519\n",
            "Epoch: 82  Loss: 1.5988113284111023\n",
            "Epoch: 83  Loss: 1.5966522097587585\n",
            "Epoch: 84  Loss: 1.6006967425346375\n",
            "Epoch: 85  Loss: 1.5964890122413635\n",
            "Epoch: 86  Loss: 1.5976274013519287\n",
            "Epoch: 87  Loss: 1.6045854091644287\n",
            "Epoch: 88  Loss: 1.6017683148384094\n",
            "Epoch: 89  Loss: 1.607649028301239\n",
            "Epoch: 90  Loss: 1.599015235900879\n",
            "Epoch: 91  Loss: 1.5986870527267456\n",
            "Epoch: 92  Loss: 1.6018542051315308\n",
            "Epoch: 93  Loss: 1.6101349592208862\n",
            "Epoch: 94  Loss: 1.6095367670059204\n",
            "Epoch: 95  Loss: 1.604030191898346\n",
            "Epoch: 96  Loss: 1.6058089137077332\n",
            "Epoch: 97  Loss: 1.6035087704658508\n",
            "Epoch: 98  Loss: 1.6089426279067993\n",
            "Epoch: 99  Loss: 1.606428325176239\n",
            "Epoch: 100  Loss: 1.6129029393196106\n"
          ]
        }
      ],
      "source": [
        "for epoch in range(100):\n",
        "  total_loss = 0\n",
        "  num_example=0\n",
        "  for data in train_dataloader:\n",
        "\n",
        "    t_dict={'en':[],\n",
        "            'ne':[]\n",
        "            }\n",
        "\n",
        "    num_example+=1\n",
        "\n",
        "    # encoding every sentence in a batch individually\n",
        "    for lang in ['en','ne']:\n",
        "        for sentence in data[lang]:\n",
        "            t_dict[lang].append(otoke.encode(sentence))\n",
        "            t_dict[lang][-1].append(1002) #eos token is 1002\n",
        "\n",
        "    # padding the whole batch according to maximum length\n",
        "\n",
        "    # finding maximum sentence length for each batch\n",
        "    for lang in ['en','ne']:\n",
        "        sen_length=[]\n",
        "        for sen in t_dict[lang]:\n",
        "            sen_length.append(len(sen))\n",
        "\n",
        "        # add zero padding to all token if not of same length(max length)\n",
        "        for sen in t_dict[lang]:\n",
        "            for i in range(len(sen),max(sen_length)):\n",
        "                sen.append(1001) #pad token is 1001\n",
        "\n",
        "\n",
        "  #   t_dict['en']=torch.tensor(otoke.encode(data['en'][0])).unsqueeze(0)\n",
        "  #   t_dict['ne']=torch.tensor(otoke.encode(data['ne'][0])).unsqueeze(0)\n",
        "\n",
        "    encoder_optimizer.zero_grad()\n",
        "    decoder_optimizer.zero_grad()\n",
        "\n",
        "    enc_out,enc_hid=model_rnn(torch.tensor(t_dict['en']).to(device))\n",
        "    dec_out,dec_hidden=dec_rnn(encoder_outputs=enc_out,encoder_hidden=enc_hid,target_tensor=torch.tensor(t_dict['ne']).to(device))\n",
        "\n",
        "    loss = criterion(\n",
        "        dec_out.view(-1, dec_out.size(-1)),\n",
        "        (torch.tensor(t_dict['ne'])[:,:dec_out.shape[1]]).to(device).view(-1)\n",
        "    )\n",
        "    loss.backward()\n",
        "\n",
        "    encoder_optimizer.step()\n",
        "    decoder_optimizer.step()\n",
        "\n",
        "    total_loss += loss.item()\n",
        "    # print the output if\n",
        "    if(loss.item()<0.5):\n",
        "      print(f\"\\nEnglish: {otoke.decode((t_dict['en'])[1])}\")\n",
        "      print(f\"True: {otoke.decode((t_dict['ne'])[1])}\")\n",
        "      print(f\"Predicted: {otoke.decode(dec_out.argmax(dim=-1).tolist()[1])}\")\n",
        "\n",
        "    if num_example>1:\n",
        "      break\n",
        "  train_loss.append(total_loss/num_example)\n",
        "  print(f\"Epoch: {epoch+1}  Loss: {total_loss/num_example}\")\n",
        "  if (epoch+1)%30 ==0:\n",
        "    torch.save(model_rnn,f'/content/drive/MyDrive/resource/gencoder_{epoch+1}.pt')\n",
        "    torch.save(dec_rnn,f'/content/drive/MyDrive/resource/gdecoder_{epoch+1}.pt')\n",
        "    torch.save(train_loss,f'/content/drive/MyDrive/resource/gtrain_loss_{epoch+1}.pt')\n"
      ]
    },
    {
      "cell_type": "code",
      "execution_count": 286,
      "metadata": {
        "colab": {
          "base_uri": "https://localhost:8080/"
        },
        "id": "sJ5oyY5YBU95",
        "outputId": "09298c17-0266-429c-a303-6f6235668623"
      },
      "outputs": [
        {
          "output_type": "execute_result",
          "data": {
            "text/plain": [
              "torch.Size([128, 92, 1003])"
            ]
          },
          "metadata": {},
          "execution_count": 286
        }
      ],
      "source": [
        "dec_out.shape"
      ]
    },
    {
      "cell_type": "code",
      "source": [
        "print(otoke.decode(t_dict['en'][1]))\n",
        "print(\"\\n\")\n",
        "print(otoke.decode(t_dict['ne'][1]))\n",
        "print(\"\\n\")\n",
        "print(otoke.decode(dec_out.argmax(dim=-1).tolist()[1]))"
      ],
      "metadata": {
        "colab": {
          "base_uri": "https://localhost:8080/"
        },
        "id": "yhCxTN7g7aUo",
        "outputId": "ed1f0923-fc66-4df5-9fc8-44ebd1e2a7e9"
      },
      "execution_count": 288,
      "outputs": [
        {
          "output_type": "stream",
          "name": "stdout",
          "text": [
            "The First Five Year Plan, prepared by the Board, covered the 1956-61 periods.<eos><pad><pad><pad><pad><pad><pad><pad><pad><pad><pad><pad><pad><pad><pad><pad><pad><pad><pad><pad><pad><pad><pad><pad><pad><pad><pad><pad><pad><pad><pad><pad><pad><pad><pad><pad><pad><pad><pad><pad><pad><pad><pad><pad><pad><pad><pad><pad><pad><pad><pad><pad><pad><pad><pad><pad><pad><pad><pad><pad><pad><pad><pad><pad><pad><pad><pad><pad><pad><pad><pad><pad><pad><pad><pad>\n",
            "\n",
            "\n",
            "२०१३ सालमा गठन भएको मण्डलले तर्जुमा गरेको प्रथम पंञ्चवर्षीय योजना सोही वर्षदेखि लागू गरी २०१७-१८ मा समाप्त भयो<eos><pad><pad><pad><pad><pad><pad><pad><pad><pad><pad><pad><pad><pad><pad><pad><pad><pad><pad><pad><pad><pad><pad><pad><pad><pad><pad><pad><pad><pad><pad><pad><pad><pad><pad><pad><pad><pad><pad><pad><pad><pad><pad><pad><pad><pad><pad><pad><pad><pad><pad><pad><pad><pad><pad><pad><pad><pad><pad><pad><pad><pad><pad><pad><pad><pad><pad><pad><pad><pad><pad><pad><pad><pad><pad><pad><pad><pad><pad><pad><pad><pad><pad><pad><pad><pad><pad><pad><pad><pad><pad><pad><pad><pad><pad><pad><pad><pad><pad><pad><pad><pad><pad><pad><pad><pad><pad><pad><pad><pad><pad><pad><pad><pad><pad><pad><pad><pad><pad><pad><pad><pad><pad><pad><pad><pad><pad>\n",
            "\n",
            "\n",
            "ह०१३ सरमा वि�रि�,को �ित्डै प्रतिशत २्र�ुव�राको � गर्दतम वि�ञ्चञ्चवर्षीय योजनाको �ोतर महरूिि गर्नागहरु.  �१९-१८ सानामेत भए�ो<eos><pad><pad><pad><pad><pad><pad><pad><pad><pad><pad><pad><pad><pad><pad><pad><pad><pad><pad><pad><pad><pad><pad><pad><pad><pad><pad><pad><pad><pad><pad><pad>\n"
          ]
        }
      ]
    },
    {
      "cell_type": "markdown",
      "metadata": {
        "id": "0olIy0jZ0y9D"
      },
      "source": [
        "## Loss Curves"
      ]
    },
    {
      "cell_type": "code",
      "execution_count": 289,
      "metadata": {
        "colab": {
          "base_uri": "https://localhost:8080/",
          "height": 448
        },
        "id": "oGumB8Gd5EM1",
        "outputId": "55ae93c6-95ed-43cd-83d2-de11e8b67206"
      },
      "outputs": [
        {
          "output_type": "execute_result",
          "data": {
            "text/plain": [
              "[<matplotlib.lines.Line2D at 0x7bf5c4e1ca00>]"
            ]
          },
          "metadata": {},
          "execution_count": 289
        },
        {
          "output_type": "display_data",
          "data": {
            "text/plain": [
              "<Figure size 640x480 with 1 Axes>"
            ],
            "image/png": "[encoded data removed]"
          },
          "metadata": {}
        }
      ],
      "source": [
        "import matplotlib.pyplot as plt\n",
        "\n",
        "plt.plot(train_loss)"
      ]
    }
  ],
  "metadata": {
    "colab": {
      "provenance": [],
      "gpuType": "T4"
    },
    "kernelspec": {
      "display_name": "Python 3",
      "name": "python3"
    },
    "language_info": {
      "codemirror_mode": {
        "name": "ipython",
        "version": 3
      },
      "file_extension": ".py",
      "mimetype": "text/x-python",
      "name": "python",
      "nbconvert_exporter": "python",
      "pygments_lexer": "ipython3",
      "version": "3.12.3"
    },
    "accelerator": "GPU"
  },
  "nbformat": 4,
  "nbformat_minor": 0
}